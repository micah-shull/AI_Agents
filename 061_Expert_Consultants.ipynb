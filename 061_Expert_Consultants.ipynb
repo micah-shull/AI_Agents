{
  "nbformat": 4,
  "nbformat_minor": 0,
  "metadata": {
    "colab": {
      "provenance": [],
      "toc_visible": true,
      "authorship_tag": "ABX9TyPCT+dIaUyNE3psHENRPU59",
      "include_colab_link": true
    },
    "kernelspec": {
      "name": "python3",
      "display_name": "Python 3"
    },
    "language_info": {
      "name": "python"
    }
  },
  "cells": [
    {
      "cell_type": "markdown",
      "metadata": {
        "id": "view-in-github",
        "colab_type": "text"
      },
      "source": [
        "<a href=\"https://colab.research.google.com/github/micah-shull/AI_Agents/blob/main/061_Expert_Consultants.ipynb\" target=\"_parent\"><img src=\"https://colab.research.google.com/assets/colab-badge.svg\" alt=\"Open In Colab\"/></a>"
      ]
    },
    {
      "cell_type": "markdown",
      "source": [
        "## Enhancing Invoice Processing with Expert Tools\n",
        "\n",
        "Introducing expert consultations to handle two critical tasks:\n",
        "\n",
        "- **Categorizing Expenditures**: The agent will consult an expert to classify each invoice into one of 20 predefined spending categories based on a one-sentence description.\n",
        "- **Checking Purchasing Rules**: The agent will validate whether the invoice follows company purchasing policies.\n",
        "\n",
        "By using expert tools, we enable our agent to dynamically invoke specialized knowledge without hardcoding every rule, keeping the architecture clean and adaptable.\n",
        "\n",
        "## Step 1: Creating the Invoice Categorization Expert\n",
        "\n",
        "We’ll start by defining an expert who specializes in classifying expenditures. This expert will take a one-sentence description of the invoice and return the best-fitting category from our predefined list.\n"
      ],
      "metadata": {
        "id": "s7ypSwHQtdIJ"
      }
    },
    {
      "cell_type": "code",
      "execution_count": null,
      "metadata": {
        "id": "vAcAk12cta9L"
      },
      "outputs": [],
      "source": [
        "@register_tool(tags=[\"invoice_processing\", \"categorization\"])\n",
        "def categorize_expenditure(action_context: ActionContext, description: str) -> str:\n",
        "    \"\"\"\n",
        "    Categorize an invoice expenditure based on a short description.\n",
        "\n",
        "    Args:\n",
        "        description: A one-sentence summary of the expenditure.\n",
        "\n",
        "    Returns:\n",
        "        A category name from the predefined set of 20 categories.\n",
        "    \"\"\"\n",
        "    categories = [\n",
        "        \"Office Supplies\", \"IT Equipment\", \"Software Licenses\", \"Consulting Services\",\n",
        "        \"Travel Expenses\", \"Marketing\", \"Training & Development\", \"Facilities Maintenance\",\n",
        "        \"Utilities\", \"Legal Services\", \"Insurance\", \"Medical Services\", \"Payroll\",\n",
        "        \"Research & Development\", \"Manufacturing Supplies\", \"Construction\", \"Logistics\",\n",
        "        \"Customer Support\", \"Security Services\", \"Miscellaneous\"\n",
        "    ]\n",
        "\n",
        "    return prompt_expert(\n",
        "        action_context=action_context,\n",
        "        description_of_expert=\"A senior financial analyst with deep expertise in corporate spending categorization.\",\n",
        "        prompt=f\"Given the following description: '{description}', classify the expense into one of these categories:\\n{categories}\"\n",
        "    )"
      ]
    },
    {
      "cell_type": "markdown",
      "source": [
        "## Step 2: Creating the Purchasing Rules Expert\n",
        "\n",
        "To ensure that our purchasing rules expert is always using the latest policy guidelines, we will implement it to read the purchasing rules from a file on disk before validating an invoice. This approach makes our system dynamic—we don’t need to hardcode the rules into the agent, and they can be updated easily without modifying the code. Also, we don’t need a special format for the rules, the human-readable policy becomes the logic!\n",
        "\n",
        "First, let’s assume that the purchasing rules are stored in a simple text file located at `\"config/purchasing_rules.txt\"`. The expert will read these rules, insert them into the prompt, and then validate the invoice accordingly.\n"
      ],
      "metadata": {
        "id": "vao2AoQ_t71D"
      }
    },
    {
      "cell_type": "code",
      "source": [
        "@register_tool(tags=[\"invoice_processing\", \"validation\"])\n",
        "def check_purchasing_rules(action_context: ActionContext, invoice_data: dict) -> dict:\n",
        "    \"\"\"\n",
        "    Validate an invoice against company purchasing policies.\n",
        "\n",
        "    Args:\n",
        "        invoice_data: Extracted invoice details, including vendor, amount, and line items.\n",
        "\n",
        "    Returns:\n",
        "        A dictionary indicating whether the invoice is compliant, with explanations.\n",
        "    \"\"\"\n",
        "    # Load the latest purchasing rules from disk\n",
        "    rules_path = \"config/purchasing_rules.txt\"\n",
        "\n",
        "    try:\n",
        "        with open(rules_path, \"r\") as f:\n",
        "            purchasing_rules = f.read()\n",
        "    except FileNotFoundError:\n",
        "        purchasing_rules = \"No rules available. Assume all invoices are compliant.\"\n",
        "\n",
        "    return prompt_expert(\n",
        "        action_context=action_context,\n",
        "        description_of_expert=\"A corporate procurement compliance officer with extensive knowledge of purchasing policies.\",\n",
        "        prompt=f\"\"\"\n",
        "        Given this invoice data: {invoice_data}, check whether it complies with company purchasing rules.\n",
        "        The latest purchasing rules are as follows:\n",
        "\n",
        "        {purchasing_rules}\n",
        "\n",
        "        Identify any violations or missing requirements. Respond with:\n",
        "        - \"compliant\": true or false\n",
        "        - \"issues\": A brief explanation of any problems found\n",
        "        \"\"\"\n",
        "    )"
      ],
      "metadata": {
        "id": "I0cZXmwvt9Kq"
      },
      "execution_count": null,
      "outputs": []
    },
    {
      "cell_type": "markdown",
      "source": [
        "## Example: Updating Purchasing Rules Without Code Changes\n",
        "\n",
        "Let’s assume our purchasing rules file contains:\n",
        "\n",
        "- All purchases over \\$5,000 require pre-approval.\n",
        "- IT equipment purchases must be from approved vendors.\n",
        "- Travel expenses must include a justification.\n",
        "- Consulting fees over $10,000 require an SOW (Statement of Work).\n",
        "\n"
      ],
      "metadata": {
        "id": "KY6Wo_YEuK2r"
      }
    },
    {
      "cell_type": "code",
      "source": [
        "{\n",
        "    \"invoice_number\": \"7890\",\n",
        "    \"date\": \"2025-03-10\",\n",
        "    \"vendor\": \"Tech Solutions Inc.\",\n",
        "    \"total_amount\": 6000,\n",
        "    \"line_items\": [\n",
        "        {\"description\": \"High-end workstation\", \"quantity\": 1, \"total\": 6000}\n",
        "    ]\n",
        "}\n",
        "Expert Output\n",
        "\n",
        "{\n",
        "    \"compliant\": false,\n",
        "    \"issues\": \"This purchase exceeds $5,000 but lacks required pre-approval.\"\n",
        "}\n"
      ],
      "metadata": {
        "id": "kfkr8GEduL2h"
      },
      "execution_count": null,
      "outputs": []
    },
    {
      "cell_type": "markdown",
      "source": [
        "This is an example of how expert personas can be operationalized in a real system — and a great blend of **structured data**, **dynamic reasoning**, and **human-readable business logic**.\n",
        "\n",
        "---\n",
        "\n",
        "### 🔑 1. **Two Types of Expert Personas for Two Distinct Functions**\n",
        "\n",
        "You're seeing **two personas** doing different jobs:\n",
        "\n",
        "* **`categorize_expenditure`**: Uses a financial analyst persona to select one of 20 predefined spending categories from a simple description.\n",
        "* **`check_purchasing_rules`**: Uses a compliance officer persona to read *real policy text* from a file and reason over structured invoice data.\n",
        "\n",
        "> 💡 **Focus Insight**: You're not hardcoding logic — you're injecting expertise into prompts and allowing the LLM to *apply* the rules instead of *encoding* them manually in code.\n",
        "\n",
        "---\n",
        "\n",
        "### 🧱 2. **Composable Tool Pattern**\n",
        "\n",
        "Both tools follow the same architectural design:\n",
        "\n",
        "* Defined expert description\n",
        "* Focused prompt\n",
        "* Cleanly wrapped in a reusable tool\n",
        "\n",
        "> 🛠️ This makes them *plug-and-play*. You can drop these tools into any agent system without modifying the agent itself.\n",
        "\n",
        "---\n",
        "\n",
        "### 📂 3. **External Rules = Dynamic Behavior**\n",
        "\n",
        "In `check_purchasing_rules`, rules are stored in a **text file**:\n",
        "\n",
        "```python\n",
        "with open(rules_path, \"r\") as f:\n",
        "    purchasing_rules = f.read()\n",
        "```\n",
        "\n",
        "* This makes policy logic editable by non-programmers.\n",
        "* The agent automatically updates its behavior when the file changes.\n",
        "\n",
        "> 🧠 This is **\"prompt-driven software design\"**: logic lives in text, not in code.\n",
        "\n",
        "---\n",
        "\n",
        "### 🎭 4. **Persona Prompt Design**\n",
        "\n",
        "Both tools use expert descriptions that act as **role selectors** for the LLM:\n",
        "\n",
        "* `\"A senior financial analyst...\"` for categorization\n",
        "* `\"A corporate procurement compliance officer...\"` for validation\n",
        "\n",
        "> 🧠 This triggers the right *style of reasoning* without needing a massive prompt.\n",
        "\n",
        "---\n",
        "\n",
        "### ✅ 5. **Structured Input + Structured Output**\n",
        "\n",
        "Look at how clearly structured the data flow is:\n",
        "\n",
        "* Input: a `description` or an `invoice_data` dictionary\n",
        "* Output: a single `category` or a compliance report dict (`{compliant: true/false, issues: ...}`)\n",
        "\n",
        "> 🧩 This keeps the entire system **interoperable** with APIs, databases, spreadsheets, etc.\n",
        "\n",
        "---\n",
        "\n",
        "### 🧪 6. **Real-World Validation Example**\n",
        "\n",
        "This test case shows how rules are enforced dynamically:\n",
        "\n",
        "```json\n",
        "{\n",
        "  \"compliant\": false,\n",
        "  \"issues\": \"This purchase exceeds $5,000 but lacks required pre-approval.\"\n",
        "}\n",
        "```\n",
        "\n",
        "> 🔍 The LLM didn't just repeat the rules — it **applied them** based on context and returned structured feedback.\n",
        "\n",
        "---\n",
        "\n",
        "### ✅ What You Should Focus On:\n",
        "\n",
        "| Area                          | Why It Matters                                                       |\n",
        "| ----------------------------- | -------------------------------------------------------------------- |\n",
        "| **Persona Design**            | Use concise but rich expert profiles to activate the right reasoning |\n",
        "| **Prompt Injection of Rules** | Keep logic outside of code when possible — editable, updatable       |\n",
        "| **Structured Data Flow**      | Ensures outputs can plug into downstream systems                     |\n",
        "| **Dynamic Flexibility**       | These tools adapt without changing agent code                        |\n",
        "| **Tool Modularity**           | Design each function as a single-purpose module                      |\n",
        "\n",
        "\n"
      ],
      "metadata": {
        "id": "uKFxcfWkv4G4"
      }
    },
    {
      "cell_type": "markdown",
      "source": [
        "\n",
        "### 💡 Why Use Specialized Personas?\n",
        "\n",
        "Each persona:\n",
        "\n",
        "* **Encapsulates a way of thinking** tailored to a domain (finance vs. compliance).\n",
        "* Keeps prompts **focused and readable**, avoiding one huge overloaded agent.\n",
        "* Is easy to **swap, improve, or upgrade** independently.\n",
        "\n",
        "This makes your system more like a **collaborative team of experts** — not a single overloaded generalist.\n",
        "\n",
        "---\n",
        "\n",
        "### 📝 Why Put Rules in an External File?\n",
        "\n",
        "* ✅ **Editable by non-devs** (managers, auditors, analysts)\n",
        "* 🔁 **Live updates** — change a line in the file, and the agent instantly reflects it\n",
        "* 🔍 **Transparency** — anyone can read and audit the actual rules\n",
        "* 🔧 **No redeploy required** — update rules, not code\n",
        "\n",
        "> It’s a kind of *softcoding* where the logic lives in human-readable form, not Python or Java.\n",
        "\n",
        "---\n",
        "\n",
        "### 🧠 Why It Works So Well with LLMs\n",
        "\n",
        "LLMs *thrive* on:\n",
        "\n",
        "* Natural language inputs (like your purchasing policies)\n",
        "* Contextual reasoning (like applying “rules” to structured invoice data)\n",
        "* Roleplay (personas bring consistent behavior)\n",
        "\n",
        "So you're designing in a way that **amplifies what LLMs are best at** — rather than forcing them into rigid, traditional code logic.\n",
        "\n",
        "---\n",
        "\n",
        "If you keep combining:\n",
        "\n",
        "* Modular **tools**\n",
        "* Real-world **personas**\n",
        "* Externalized **business logic**\n",
        "\n",
        "…you're not just using LLMs — you're building **intelligent, evolving systems** that mirror how real-world teams operate.\n",
        "\n",
        "\n"
      ],
      "metadata": {
        "id": "FB1f4RUTwnxb"
      }
    },
    {
      "cell_type": "markdown",
      "source": [
        "\n",
        "\n",
        "### 🧩 What You’re Really Building Is a Cognitive Architecture\n",
        "\n",
        "You’ve already started designing a system that…\n",
        "\n",
        "* **Separates concerns** (extraction vs. validation vs. categorization)\n",
        "* **Encapsulates reasoning** in modular, swappable parts\n",
        "* **Bridges human-readable policy** with machine-executable logic\n",
        "* **Lets LLMs operate as adaptable collaborators**, not just black boxes\n",
        "\n",
        "This is *not* traditional software engineering. It’s something **newer, closer to organizational design** — with tools that think like experts, guided by simple inputs and evolving policy.\n",
        "\n",
        "---\n",
        "\n",
        "### 🧠 Zooming Out: What This Teaches You\n",
        "\n",
        "As you master this style of agent design, you're learning to:\n",
        "\n",
        "* Think in **systems of logic + language**\n",
        "* Model real-world **professional roles** as interactive tools\n",
        "* Design pipelines that **reason, adapt, and evolve**\n",
        "\n",
        "And this mindset transfers **far beyond invoices** — to legal workflows, research assistants, onboarding agents, AI tutors, scientific assistants, and more.\n",
        "\n",
        "So yes — this might be \"just an invoice system,\" but you’re already practicing **high-level agent architecture design.**\n",
        "\n"
      ],
      "metadata": {
        "id": "sQ7oCoBsw4Ry"
      }
    },
    {
      "cell_type": "code",
      "source": [],
      "metadata": {
        "id": "rgOCnAxbwBbB"
      },
      "execution_count": null,
      "outputs": []
    }
  ]
}