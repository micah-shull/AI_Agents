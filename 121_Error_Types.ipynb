{
  "nbformat": 4,
  "nbformat_minor": 0,
  "metadata": {
    "colab": {
      "provenance": [],
      "authorship_tag": "ABX9TyP0nRvINWNHQIE3XRHQRZY9",
      "include_colab_link": true
    },
    "kernelspec": {
      "name": "python3",
      "display_name": "Python 3"
    },
    "language_info": {
      "name": "python"
    }
  },
  "cells": [
    {
      "cell_type": "markdown",
      "metadata": {
        "id": "view-in-github",
        "colab_type": "text"
      },
      "source": [
        "<a href=\"https://colab.research.google.com/github/micah-shull/AI_Agents/blob/main/121_Error_Types.ipynb\" target=\"_parent\"><img src=\"https://colab.research.google.com/assets/colab-badge.svg\" alt=\"Open In Colab\"/></a>"
      ]
    },
    {
      "cell_type": "markdown",
      "source": [
        "Knowing the **most common Python exception types** (and when they tend to occur) gives you a major advantage when designing robust code or AI agents.\n",
        "\n",
        "Here’s a curated list, grouped by **category**, with plain-language explanations and examples. These are the ones you’ll encounter **most often**.\n",
        "\n",
        "---\n",
        "\n",
        "## 🧮 Type & Value Errors\n",
        "\n",
        "| Exception            | When It Happens                   | Example                            |\n",
        "| -------------------- | --------------------------------- | ---------------------------------- |\n",
        "| **`TypeError`**      | Wrong data type used              | `len(5)` or `\"a\" + 2`              |\n",
        "| **`ValueError`**     | Right type, wrong value           | `int(\"hello\")`                     |\n",
        "| **`AssertionError`** | `assert` fails during dev/testing | `assert x > 0, \"must be positive\"` |\n",
        "\n",
        "🧠 **You’ll use these often when validating input or agent arguments.**\n",
        "\n",
        "---\n",
        "\n",
        "## 📦 Collections & Lookups\n",
        "\n",
        "| Exception            | When It Happens                 | Example                       |\n",
        "| -------------------- | ------------------------------- | ----------------------------- |\n",
        "| **`IndexError`**     | List index out of bounds        | `my_list[100]`                |\n",
        "| **`KeyError`**       | Dict key not found              | `my_dict[\"missing\"]`          |\n",
        "| **`AttributeError`** | Accessing nonexistent attribute | `x.foo` where `x` is an `int` |\n",
        "\n",
        "🔍 Very common when dealing with structured data, APIs, or agent memory.\n",
        "\n",
        "---\n",
        "\n",
        "## 📂 Files & I/O\n",
        "\n",
        "| Exception               | When It Happens    | Example                                            |\n",
        "| ----------------------- | ------------------ | -------------------------------------------------- |\n",
        "| **`FileNotFoundError`** | File doesn’t exist | `open(\"missing.txt\")`                              |\n",
        "| **`PermissionError`**   | Can’t access file  | Trying to write to a read-only location            |\n",
        "| **`IOError`**           | General I/O issues | Often used in older Python for file/network issues |\n",
        "\n",
        "🧠 Use `with open(...) as f:` to reduce these.\n",
        "\n",
        "---\n",
        "\n",
        "## 🌐 Network / Agent Tooling\n",
        "\n",
        "| Exception                  | When It Happens         | Example                    |\n",
        "| -------------------------- | ----------------------- | -------------------------- |\n",
        "| **`TimeoutError`**         | Operation took too long | HTTP request, socket, etc. |\n",
        "| **`ConnectionError`**      | Network is unreachable  | Failed API/tool call       |\n",
        "| **`json.JSONDecodeError`** | Bad JSON parsing        | `json.loads(\"not json\")`   |\n",
        "\n",
        "📡 These are **bread-and-butter** for agent toolchains calling external APIs.\n",
        "\n",
        "---\n",
        "\n",
        "## 🧪 Testing / Internal Checks\n",
        "\n",
        "| Exception                 | When It Happens               | Example                                |\n",
        "| ------------------------- | ----------------------------- | -------------------------------------- |\n",
        "| **`RuntimeError`**        | Something unexpected happened | “This should never happen” placeholder |\n",
        "| **`NotImplementedError`** | Placeholder method            | In base classes or abstract tools      |\n",
        "\n",
        "🧠 Often used in early-stage prototypes or when enforcing agent behaviors.\n",
        "\n",
        "---\n",
        "\n",
        "## ⚙️ Custom Exceptions (You Define)\n",
        "\n",
        "For agent logic, you’ll commonly define your own, such as:\n",
        "\n",
        "```python\n",
        "class RetryableToolError(Exception): pass\n",
        "class NonRetryableToolError(Exception): pass\n",
        "```\n",
        "\n",
        "So you can **structure how the agent reacts**:\n",
        "\n",
        "* Retryable? Retry.\n",
        "* Non-retryable? Summarize or skip.\n",
        "* Unexpected? Log and crash the step.\n",
        "\n",
        "---\n",
        "\n",
        "## ✅ Summary Table (Quick Reference)\n",
        "\n",
        "| Category         | Exceptions                                                            |\n",
        "| ---------------- | --------------------------------------------------------------------- |\n",
        "| Type/Value       | `TypeError`, `ValueError`, `AssertionError`                           |\n",
        "| Data access      | `IndexError`, `KeyError`, `AttributeError`                            |\n",
        "| I/O              | `FileNotFoundError`, `PermissionError`, `IOError`                     |\n",
        "| Network/External | `TimeoutError`, `ConnectionError`, `json.JSONDecodeError`             |\n",
        "| Internal control | `RuntimeError`, `NotImplementedError`                                 |\n",
        "| Custom/Agent     | `RetryableToolError`, `NonRetryableToolError`, `ValidationError`, etc |\n",
        "\n"
      ],
      "metadata": {
        "id": "QNALk3xQesQF"
      }
    },
    {
      "cell_type": "markdown",
      "source": [
        "## ✅ 1. **TypeError** – *Wrong data type used*\n",
        "\n",
        "This error happens when an operation or function is applied to an object of an **inappropriate type**.\n",
        "\n",
        "\n"
      ],
      "metadata": {
        "id": "5Q5C7z4gnvaS"
      }
    },
    {
      "cell_type": "code",
      "source": [
        "# Example: Trying to get the length of an integer\n",
        "x = 5\n",
        "print(len(x))  # ❌ TypeError"
      ],
      "metadata": {
        "colab": {
          "base_uri": "https://localhost:8080/",
          "height": 176
        },
        "id": "O9X46Wgon2CY",
        "outputId": "fb533555-f358-46a6-87d0-962606be25ce"
      },
      "execution_count": 1,
      "outputs": [
        {
          "output_type": "error",
          "ename": "TypeError",
          "evalue": "object of type 'int' has no len()",
          "traceback": [
            "\u001b[0;31m---------------------------------------------------------------------------\u001b[0m",
            "\u001b[0;31mTypeError\u001b[0m                                 Traceback (most recent call last)",
            "\u001b[0;32m/tmp/ipython-input-2952274393.py\u001b[0m in \u001b[0;36m<cell line: 0>\u001b[0;34m()\u001b[0m\n\u001b[1;32m      1\u001b[0m \u001b[0;31m# Example: Trying to get the length of an integer\u001b[0m\u001b[0;34m\u001b[0m\u001b[0;34m\u001b[0m\u001b[0m\n\u001b[1;32m      2\u001b[0m \u001b[0mx\u001b[0m \u001b[0;34m=\u001b[0m \u001b[0;36m5\u001b[0m\u001b[0;34m\u001b[0m\u001b[0;34m\u001b[0m\u001b[0m\n\u001b[0;32m----> 3\u001b[0;31m \u001b[0mprint\u001b[0m\u001b[0;34m(\u001b[0m\u001b[0mlen\u001b[0m\u001b[0;34m(\u001b[0m\u001b[0mx\u001b[0m\u001b[0;34m)\u001b[0m\u001b[0;34m)\u001b[0m  \u001b[0;31m# ❌ TypeError\u001b[0m\u001b[0;34m\u001b[0m\u001b[0;34m\u001b[0m\u001b[0m\n\u001b[0m",
            "\u001b[0;31mTypeError\u001b[0m: object of type 'int' has no len()"
          ]
        }
      ]
    },
    {
      "cell_type": "code",
      "source": [
        "# Fix\n",
        "x = \"hello\"\n",
        "print(len(x))  # ✅ OK: strings have a length"
      ],
      "metadata": {
        "colab": {
          "base_uri": "https://localhost:8080/"
        },
        "id": "8VuTrqVon3r_",
        "outputId": "960a1666-a2a5-4638-87a3-d0a6b3f20edd"
      },
      "execution_count": 2,
      "outputs": [
        {
          "output_type": "stream",
          "name": "stdout",
          "text": [
            "5\n"
          ]
        }
      ]
    },
    {
      "cell_type": "markdown",
      "source": [
        "## ✅ 2. **ValueError** – *Right type, wrong value*\n",
        "\n",
        "This happens when you pass the **right data type**, but the **content is invalid**.\n",
        "\n",
        "\n"
      ],
      "metadata": {
        "id": "_lENY6ejnzIb"
      }
    },
    {
      "cell_type": "code",
      "source": [
        "# Example: Trying to convert an invalid string to an integer\n",
        "num = int(\"hello\")  # ❌ ValueError"
      ],
      "metadata": {
        "colab": {
          "base_uri": "https://localhost:8080/",
          "height": 159
        },
        "id": "4M3S0tfeoFqY",
        "outputId": "daab9f1e-2f96-4a27-cc66-504ec0c71b90"
      },
      "execution_count": 4,
      "outputs": [
        {
          "output_type": "error",
          "ename": "ValueError",
          "evalue": "invalid literal for int() with base 10: 'hello'",
          "traceback": [
            "\u001b[0;31m---------------------------------------------------------------------------\u001b[0m",
            "\u001b[0;31mValueError\u001b[0m                                Traceback (most recent call last)",
            "\u001b[0;32m/tmp/ipython-input-3004203928.py\u001b[0m in \u001b[0;36m<cell line: 0>\u001b[0;34m()\u001b[0m\n\u001b[1;32m      1\u001b[0m \u001b[0;31m# Example: Trying to convert an invalid string to an integer\u001b[0m\u001b[0;34m\u001b[0m\u001b[0;34m\u001b[0m\u001b[0m\n\u001b[0;32m----> 2\u001b[0;31m \u001b[0mnum\u001b[0m \u001b[0;34m=\u001b[0m \u001b[0mint\u001b[0m\u001b[0;34m(\u001b[0m\u001b[0;34m\"hello\"\u001b[0m\u001b[0;34m)\u001b[0m  \u001b[0;31m# ❌ ValueError\u001b[0m\u001b[0;34m\u001b[0m\u001b[0;34m\u001b[0m\u001b[0m\n\u001b[0m",
            "\u001b[0;31mValueError\u001b[0m: invalid literal for int() with base 10: 'hello'"
          ]
        }
      ]
    },
    {
      "cell_type": "code",
      "source": [
        "# Fix\n",
        "num = int(\"42\")  # ✅ OK"
      ],
      "metadata": {
        "id": "_pHdAdDGoFhw"
      },
      "execution_count": 3,
      "outputs": []
    },
    {
      "cell_type": "markdown",
      "source": [
        "\n",
        "\n",
        "\n",
        "\n",
        "\n",
        "\n",
        "## ✅ 3. **AssertionError** – *assert fails during dev/testing*\n",
        "\n",
        "`assert` is used to check conditions **during development**. It will raise an `AssertionError` if the condition is `False`.\n",
        "\n",
        "\n"
      ],
      "metadata": {
        "id": "xUscgcOWnriZ"
      }
    },
    {
      "cell_type": "code",
      "source": [
        "x = -3\n",
        "assert x > 0, \"x must be positive\"  # ❌ AssertionError"
      ],
      "metadata": {
        "colab": {
          "base_uri": "https://localhost:8080/",
          "height": 159
        },
        "id": "dosZgsH1ofGv",
        "outputId": "3daf4346-b491-4dd4-ff80-c202fababa4a"
      },
      "execution_count": 7,
      "outputs": [
        {
          "output_type": "error",
          "ename": "AssertionError",
          "evalue": "x must be positive",
          "traceback": [
            "\u001b[0;31m---------------------------------------------------------------------------\u001b[0m",
            "\u001b[0;31mAssertionError\u001b[0m                            Traceback (most recent call last)",
            "\u001b[0;32m/tmp/ipython-input-688576555.py\u001b[0m in \u001b[0;36m<cell line: 0>\u001b[0;34m()\u001b[0m\n\u001b[1;32m      1\u001b[0m \u001b[0mx\u001b[0m \u001b[0;34m=\u001b[0m \u001b[0;34m-\u001b[0m\u001b[0;36m3\u001b[0m\u001b[0;34m\u001b[0m\u001b[0;34m\u001b[0m\u001b[0m\n\u001b[0;32m----> 2\u001b[0;31m \u001b[0;32massert\u001b[0m \u001b[0mx\u001b[0m \u001b[0;34m>\u001b[0m \u001b[0;36m0\u001b[0m\u001b[0;34m,\u001b[0m \u001b[0;34m\"x must be positive\"\u001b[0m  \u001b[0;31m# ❌ AssertionError\u001b[0m\u001b[0;34m\u001b[0m\u001b[0;34m\u001b[0m\u001b[0m\n\u001b[0m",
            "\u001b[0;31mAssertionError\u001b[0m: x must be positive"
          ]
        }
      ]
    },
    {
      "cell_type": "code",
      "source": [
        "# Fix\n",
        "x = 5\n",
        "assert x > 0, \"x must be positive\"  # ✅ No error"
      ],
      "metadata": {
        "id": "w1M2jiuCobXB"
      },
      "execution_count": 6,
      "outputs": []
    },
    {
      "cell_type": "code",
      "execution_count": 5,
      "metadata": {
        "colab": {
          "base_uri": "https://localhost:8080/"
        },
        "id": "YpuveRBSemqy",
        "outputId": "3ef2b398-8964-49bb-c602-3d8a21a91fec"
      },
      "outputs": [
        {
          "output_type": "stream",
          "name": "stdout",
          "text": [
            "Oops! Could not convert to int.\n"
          ]
        }
      ],
      "source": [
        "try:\n",
        "    num = int(\"hello\")\n",
        "except ValueError:\n",
        "    print(\"Oops! Could not convert to int.\")"
      ]
    },
    {
      "cell_type": "markdown",
      "source": [
        "##**📦 Collections & Lookup Errors**\n",
        "\n",
        "which are extremely common when working with:\n",
        "\n",
        "* Dictionaries (`KeyError`)\n",
        "* Lists (`IndexError`)\n",
        "* Objects (`AttributeError`)\n",
        "\n",
        "### 🧠 What You’re Practicing:\n",
        "\n",
        "| Error Type       | Cause                                       | Fix Strategy                    |\n",
        "| ---------------- | ------------------------------------------- | ------------------------------- |\n",
        "| `KeyError`       | Dict key doesn’t exist                      | Use `.get()` or check with `in` |\n",
        "| `IndexError`     | List index is out of range                  | Use `len()` or try/except block |\n",
        "| `AttributeError` | Object doesn’t have that method or property | Use `hasattr()` or type checks  |\n",
        "\n",
        "---\n",
        "\n",
        "### ✅ Tip for Agent Devs:\n",
        "\n",
        "These errors often show up in:\n",
        "\n",
        "* Tool inputs and outputs\n",
        "* JSON API responses (`dict[\"missing_key\"]`)\n",
        "* Data wrangling (`obj.nonexistent_attribute`)\n",
        "\n",
        "In agents, it’s good practice to:\n",
        "\n",
        "* Catch these explicitly\n",
        "* Add context: `raise KeyError(\"Missing 'email' in profile\") from e`\n",
        "* Use structured fallback values\n",
        "\n"
      ],
      "metadata": {
        "id": "8nHYlhyGpNlN"
      }
    },
    {
      "cell_type": "code",
      "source": [
        "# 📦 1. KeyError: Missing dictionary key\n",
        "print(\"KeyError Example\")\n",
        "person = {\"name\": \"Ada\", \"age\": 30}\n",
        "try:\n",
        "    print(person[\"email\"])  # ❌ KeyError\n",
        "except KeyError as e:\n",
        "    print(f\"Caught KeyError: {e}\")\n",
        "print()"
      ],
      "metadata": {
        "colab": {
          "base_uri": "https://localhost:8080/"
        },
        "id": "M0emaOLppPhx",
        "outputId": "f6a4afd1-8e7f-43e7-e40a-94904d8fa148"
      },
      "execution_count": 8,
      "outputs": [
        {
          "output_type": "stream",
          "name": "stdout",
          "text": [
            "KeyError Example\n",
            "Caught KeyError: 'email'\n",
            "\n"
          ]
        }
      ]
    },
    {
      "cell_type": "code",
      "source": [
        "# ✅ Fix: use .get() or check key\n",
        "email = person.get(\"email\", \"Not provided\")\n",
        "print(f\"Email (safe access): {email}\")\n",
        "print(\"-\" * 40)"
      ],
      "metadata": {
        "colab": {
          "base_uri": "https://localhost:8080/"
        },
        "id": "59YlW7SlpUS_",
        "outputId": "beb9cdb8-469d-43e0-b4c7-a76641447880"
      },
      "execution_count": 9,
      "outputs": [
        {
          "output_type": "stream",
          "name": "stdout",
          "text": [
            "Email (safe access): Not provided\n",
            "----------------------------------------\n"
          ]
        }
      ]
    },
    {
      "cell_type": "code",
      "source": [
        "# 📦 2. IndexError: List index out of range\n",
        "print(\"IndexError Example\")\n",
        "colors = [\"red\", \"green\", \"blue\"]\n",
        "try:\n",
        "    print(colors[5])  # ❌ IndexError\n",
        "except IndexError as e:\n",
        "    print(f\"Caught IndexError: {e}\")\n",
        "print(\"-\" * 40)"
      ],
      "metadata": {
        "colab": {
          "base_uri": "https://localhost:8080/"
        },
        "id": "7qRMw_WkpXGf",
        "outputId": "18465aca-2fdd-4632-b1c0-fb9376657899"
      },
      "execution_count": 14,
      "outputs": [
        {
          "output_type": "stream",
          "name": "stdout",
          "text": [
            "IndexError Example\n",
            "Caught IndexError: list index out of range\n",
            "----------------------------------------\n"
          ]
        }
      ]
    },
    {
      "cell_type": "code",
      "source": [
        "# ✅ Fix: check index\n",
        "index = 1\n",
        "if index < len(colors):\n",
        "    print(f\"Color at index {index}: {colors[index]}\")\n",
        "print(\"-\" * 40)"
      ],
      "metadata": {
        "colab": {
          "base_uri": "https://localhost:8080/"
        },
        "id": "lx-6gPurpZPJ",
        "outputId": "418d5c94-8241-4041-f478-1bd7e5b0c908"
      },
      "execution_count": 11,
      "outputs": [
        {
          "output_type": "stream",
          "name": "stdout",
          "text": [
            "Color at index 1: green\n",
            "----------------------------------------\n"
          ]
        }
      ]
    },
    {
      "cell_type": "code",
      "source": [
        "# 📦 3. AttributeError: Object missing attribute\n",
        "print(\"AttributeError Example\")\n",
        "x = 42\n",
        "try:\n",
        "    print(x.lower())  # ❌ integers have no .lower()\n",
        "except AttributeError as e:\n",
        "    print(f\"Caught AttributeError: {e}\")\n",
        "print(\"-\" * 40)"
      ],
      "metadata": {
        "colab": {
          "base_uri": "https://localhost:8080/"
        },
        "id": "btF5PfESpbIJ",
        "outputId": "99522ba8-de0c-4b00-dce1-2cb57d6685d4"
      },
      "execution_count": 15,
      "outputs": [
        {
          "output_type": "stream",
          "name": "stdout",
          "text": [
            "AttributeError Example\n",
            "Caught AttributeError: 'int' object has no attribute 'lower'\n",
            "----------------------------------------\n"
          ]
        }
      ]
    },
    {
      "cell_type": "code",
      "source": [
        "# ✅ Fix: only call .lower() on strings\n",
        "word = \"Hello\"\n",
        "print(word.lower())  # ✅ OK"
      ],
      "metadata": {
        "colab": {
          "base_uri": "https://localhost:8080/"
        },
        "id": "JzqAc36spciF",
        "outputId": "8f65c3eb-f2c7-4fbb-c486-63a1a3eb6d9c"
      },
      "execution_count": 16,
      "outputs": [
        {
          "output_type": "stream",
          "name": "stdout",
          "text": [
            "hello\n"
          ]
        }
      ]
    },
    {
      "cell_type": "markdown",
      "source": [
        "Let's now explore 📂 **Files & I/O Errors**, which commonly occur when reading, writing, or accessing files or other input/output resources.\n",
        "\n",
        "These are especially relevant when your agent is:\n",
        "\n",
        "* Reading documents, logs, or datasets\n",
        "* Saving or exporting results\n",
        "* Downloading or uploading to/from disk\n",
        "* Interacting with APIs that touch the file system\n",
        "\n",
        "---\n",
        "\n",
        "## 📂 Files & I/O Error Examples — Practice Code\n",
        "\n",
        "\n",
        "## 💡 Key Learnings\n",
        "\n",
        "| Exception              | Cause                              | Fix / Best Practice                         |\n",
        "| ---------------------- | ---------------------------------- | ------------------------------------------- |\n",
        "| `FileNotFoundError`    | File doesn’t exist                 | Check if file exists first, handle with try |\n",
        "| `PermissionError`      | No permission to read/write        | Avoid system-protected locations            |\n",
        "| `IOError`              | Generic file/network error         | Rarely used now, but still catchable        |\n",
        "| ✅ Use `with open(...)` | Automatically handles file closing | Prevents leaks, reduces errors              |\n",
        "\n",
        "---\n",
        "\n",
        "## 🧠 Agent & DS Tip:\n",
        "\n",
        "Use file error handling when:\n",
        "\n",
        "* Loading training data\n",
        "* Logging results or saving checkpoints\n",
        "* Writing temp files or responses to disk\n",
        "* Letting users upload or select file paths\n",
        "\n",
        "\n"
      ],
      "metadata": {
        "id": "Evy6c7KSqToF"
      }
    },
    {
      "cell_type": "code",
      "source": [
        "import os\n",
        "\n",
        "# 📂 1. FileNotFoundError\n",
        "print(\"FileNotFoundError Example\")\n",
        "try:\n",
        "    with open(\"missing_file.txt\", \"r\") as f:\n",
        "        data = f.read()\n",
        "except FileNotFoundError as e:\n",
        "    print(f\"Caught FileNotFoundError: {e}\")\n",
        "print(\"-\" * 40)"
      ],
      "metadata": {
        "colab": {
          "base_uri": "https://localhost:8080/"
        },
        "id": "LalsIiD_qY_U",
        "outputId": "a9d238e4-20f0-4475-afcb-da1778dda974"
      },
      "execution_count": 17,
      "outputs": [
        {
          "output_type": "stream",
          "name": "stdout",
          "text": [
            "FileNotFoundError Example\n",
            "Caught FileNotFoundError: [Errno 2] No such file or directory: 'missing_file.txt'\n",
            "----------------------------------------\n"
          ]
        }
      ]
    },
    {
      "cell_type": "code",
      "source": [
        "# 📂 2. PermissionError\n",
        "print(\"PermissionError Example\")\n",
        "try:\n",
        "    # Trying to write to a system file (simulated case — avoid in real use!)\n",
        "    with open(\"/root/secret.txt\", \"w\") as f:\n",
        "        f.write(\"Access denied?\")\n",
        "except PermissionError as e:\n",
        "    print(f\"Caught PermissionError: {e}\")\n",
        "print(\"-\" * 40)"
      ],
      "metadata": {
        "colab": {
          "base_uri": "https://localhost:8080/"
        },
        "id": "W88w4rKVqe-M",
        "outputId": "69c31ef6-811e-4a31-bd76-0e0d8e52b5af"
      },
      "execution_count": 18,
      "outputs": [
        {
          "output_type": "stream",
          "name": "stdout",
          "text": [
            "PermissionError Example\n",
            "----------------------------------------\n"
          ]
        }
      ]
    },
    {
      "cell_type": "code",
      "source": [
        "# 📂 3. IOError (less common in modern Python, general I/O problem)\n",
        "print(\"IOError Example (Simulated)\")\n",
        "try:\n",
        "    # Simulating an I/O issue by manually raising one\n",
        "    raise IOError(\"Simulated I/O failure during read/write\")\n",
        "except IOError as e:\n",
        "    print(f\"Caught IOError: {e}\")\n",
        "print(\"-\" * 40)"
      ],
      "metadata": {
        "colab": {
          "base_uri": "https://localhost:8080/"
        },
        "id": "AmXpaq_jqgxi",
        "outputId": "cfce5927-056c-4f2e-b629-c2ae99e10a4a"
      },
      "execution_count": 19,
      "outputs": [
        {
          "output_type": "stream",
          "name": "stdout",
          "text": [
            "IOError Example (Simulated)\n",
            "Caught IOError: Simulated I/O failure during read/write\n",
            "----------------------------------------\n"
          ]
        }
      ]
    },
    {
      "cell_type": "code",
      "source": [
        "# ✅ Best practice: use 'with' to safely open/close files\n",
        "print(\"Best Practice: with open(...) as f:\")\n",
        "try:\n",
        "    # Create a file safely\n",
        "    with open(\"my_data.txt\", \"w\") as f:\n",
        "        f.write(\"This file is safely written.\\n\")\n",
        "    print(\"File written successfully.\")\n",
        "except Exception as e:\n",
        "    print(f\"Unexpected error: {e}\")\n"
      ],
      "metadata": {
        "colab": {
          "base_uri": "https://localhost:8080/"
        },
        "id": "iDwkk9FCqlRp",
        "outputId": "6985a8d2-b87d-4989-ba0b-d64764320968"
      },
      "execution_count": 20,
      "outputs": [
        {
          "output_type": "stream",
          "name": "stdout",
          "text": [
            "Best Practice: with open(...) as f:\n",
            "File written successfully.\n"
          ]
        }
      ]
    },
    {
      "cell_type": "markdown",
      "source": [
        "\n",
        "## 🧠 1. Most Common Error Types in Agent Development\n",
        "\n",
        "When building AI Agents (tool-using, async, API-integrating, user-facing), these are the **top error types** you're most likely to encounter:\n",
        "\n",
        "| Error Type                          | Typical Cause                                        | Common Location                        |\n",
        "| ----------------------------------- | ---------------------------------------------------- | -------------------------------------- |\n",
        "| `TypeError` / `ValueError`          | Invalid inputs or wrong assumptions about data       | Tool inputs, prompt templates, parsing |\n",
        "| `KeyError` / `IndexError`           | Missing dict/list data                               | JSON tool responses, memory buffers    |\n",
        "| `AttributeError`                    | Incorrect object assumptions (e.g., `.name` on None) | Chained calls, dynamic objects         |\n",
        "| `TimeoutError` / `requests.Timeout` | External APIs are slow, fail to respond              | Tool calls, web scraping, APIs         |\n",
        "| `ConnectionError`                   | Network dropped, server unreachable                  | API and DB access                      |\n",
        "| `FileNotFoundError`                 | File dependencies missing                            | Loading tools, cached files, logs      |\n",
        "| `RuntimeError`                      | Unexpected program state                             | Internal bugs in agent planning        |\n",
        "| `Exception` (fallback)              | Catch-all when something really goes wrong           | Top-level agent loop/tool step         |\n",
        "\n",
        "---\n",
        "\n",
        "## ✅ 2. Best Practices for Handling These Errors\n",
        "\n",
        "### 🔒 Handle what you **expect**\n",
        "\n",
        "```python\n",
        "try:\n",
        "    response = requests.get(url, timeout=5)\n",
        "except requests.Timeout:\n",
        "    retry()  # or backoff\n",
        "except requests.ConnectionError:\n",
        "    log_offline_state()\n",
        "```\n",
        "\n",
        "### 🛡️ Use `try / except / else / finally` carefully\n",
        "\n",
        "* Keep `try` blocks **tight**: only the risky lines.\n",
        "* Use `except` for **specific** errors (not bare `except`).\n",
        "* Use `finally` to clean up (e.g., close DB or file).\n",
        "\n",
        "### 🧱 Add structure to agent tool calls:\n",
        "\n",
        "```python\n",
        "def run_tool_call(tool_fn):\n",
        "    try:\n",
        "        return {\"ok\": True, \"value\": tool_fn()}\n",
        "    except RetryableError as e:\n",
        "        return {\"ok\": False, \"retryable\": True, \"error\": str(e)}\n",
        "    except Exception as e:\n",
        "        return {\"ok\": False, \"retryable\": False, \"error\": f\"{type(e).__name__}: {e}\"}\n",
        "```\n",
        "\n",
        "### 📄 Use Logging (instead of just printing):\n",
        "\n",
        "```python\n",
        "import logging\n",
        "logging.exception(\"tool_call failed\")  # captures traceback!\n",
        "```\n",
        "\n",
        "### 🧪 Validate Inputs Early:\n",
        "\n",
        "```python\n",
        "if not isinstance(query, str) or not query.strip():\n",
        "    raise ValueError(\"query must be a non-empty string\")\n",
        "```\n",
        "\n",
        "### 🔁 Retry External Calls (transient failures only!)\n",
        "\n",
        "Use exponential backoff + jitter for things like:\n",
        "\n",
        "* `requests.Timeout`\n",
        "* `ConnectionError`\n",
        "* 5xx API status codes\n",
        "\n",
        "---\n",
        "\n",
        "## 🚀 3. How to Level Up Your Agent Error Handling Skills\n",
        "\n",
        "### 🎯 Develop these core reflexes:\n",
        "\n",
        "| Skill                            | How to Build It                                                  |\n",
        "| -------------------------------- | ---------------------------------------------------------------- |\n",
        "| **Read tracebacks fluently**     | Practice running buggy code, locate the real error cause         |\n",
        "| **Identify expected failures**   | Think through what might go wrong (timeout? bad input? 404?)     |\n",
        "| **Use structured error returns** | Avoid crashing the whole agent with clear `{ok, error}` wrappers |\n",
        "| **Write custom exceptions**      | Define `RetryableToolError`, `ToolParseError`, etc               |\n",
        "| **Use logging everywhere**       | Track what failed and **why**, especially in async tools         |\n",
        "| **Write pytest for failures**    | Use `pytest.raises()` to test edge cases & validation            |\n",
        "| **Learn context managers**       | For safe file/net resource handling                              |\n",
        "\n",
        "---\n",
        "\n",
        "## 🧭 Want a practical training plan?\n",
        "\n",
        "Here's a simple **Error Handling Skill Ladder**:\n",
        "\n",
        "| Level | Focus Area                             | Practice With                              |\n",
        "| ----- | -------------------------------------- | ------------------------------------------ |\n",
        "| 🟢 1  | Tracebacks + `try/except` basics       | Built-in type/value/index errors           |\n",
        "| 🟡 2  | Tool APIs + JSON parsing + retries     | `requests`, `openai`, `json.loads`         |\n",
        "| 🟠 3  | Custom exceptions + logging + timeouts | Structured error responses in agents       |\n",
        "| 🔴 4  | Async tools, backoff strategies        | `asyncio`, `aiohttp`, `concurrent.futures` |\n",
        "| 🟣 5  | Framework-level guardrails             | Agent wrappers, toolkits, `FastAPI`, etc.  |\n",
        "\n",
        "---\n",
        "\n",
        "## ✅ TL;DR: What To Do Next\n",
        "\n",
        "* **Expect + handle** known errors\n",
        "* **Log + observe** unknown ones (don't blindly suppress)\n",
        "* Build a **structured error boundary** around each agent step\n",
        "* Treat errors as **valuable signals**, not just bugs\n",
        "* Practice reading real-world tracebacks to build intuition\n",
        "\n",
        "\n"
      ],
      "metadata": {
        "id": "4Xg0E9yCrUuM"
      }
    },
    {
      "cell_type": "markdown",
      "source": [
        "Here’s a **complete reusable error-handling scaffold + checklist** tailored for **AI Agent development**. You can drop this directly into your agent framework or adapt it to your style.\n",
        "\n",
        "---\n",
        "\n",
        "# 📘 Agent Error Handling Template\n",
        "\n",
        "### ✅ Basic Structure\n",
        "\n",
        "```python\n",
        "import logging\n",
        "import time\n",
        "import json\n",
        "\n",
        "class RetryableToolError(Exception): pass\n",
        "class NonRetryableToolError(Exception): pass\n",
        "\n",
        "def run_agent_step(step_fn):\n",
        "    \"\"\"Wrap one agent step/tool call and return a structured result.\"\"\"\n",
        "    try:\n",
        "        return {\n",
        "            \"ok\": True,\n",
        "            \"value\": step_fn()\n",
        "        }\n",
        "    except RetryableToolError as e:\n",
        "        logging.warning(\"Retryable error: %s\", e, exc_info=True)\n",
        "        return {\n",
        "            \"ok\": False,\n",
        "            \"retryable\": True,\n",
        "            \"error\": str(e)\n",
        "        }\n",
        "    except Exception as e:\n",
        "        logging.error(\"Non-retryable error: %s\", e, exc_info=True)\n",
        "        return {\n",
        "            \"ok\": False,\n",
        "            \"retryable\": False,\n",
        "            \"error\": f\"{type(e).__name__}: {e}\"\n",
        "        }\n",
        "```\n",
        "\n",
        "---\n",
        "\n",
        "### ⚙️ Example Tool Function\n",
        "\n",
        "```python\n",
        "def call_tool():\n",
        "    try:\n",
        "        status, text = call_tool_raw()\n",
        "        \n",
        "        if status >= 500:\n",
        "            raise RetryableToolError(f\"server 5xx: {status}\")\n",
        "        if status >= 400:\n",
        "            raise NonRetryableToolError(f\"client 4xx: {status}\")\n",
        "\n",
        "        payload = json.loads(text)\n",
        "        if \"answer\" not in payload:\n",
        "            raise NonRetryableToolError(\"missing 'answer' field\")\n",
        "\n",
        "        return payload[\"answer\"]\n",
        "\n",
        "    except json.JSONDecodeError as e:\n",
        "        raise NonRetryableToolError(\"Invalid JSON from tool\") from e\n",
        "```\n",
        "\n",
        "---\n",
        "\n",
        "### 🔁 Retry with Backoff (for transient failures)\n",
        "\n",
        "```python\n",
        "import time\n",
        "import random\n",
        "\n",
        "def retry(func, attempts=5, base=0.2, jitter=0.1, exceptions=(RetryableToolError,)):\n",
        "    for i in range(attempts):\n",
        "        try:\n",
        "            return func()\n",
        "        except exceptions as e:\n",
        "            if i == attempts - 1:\n",
        "                raise\n",
        "            sleep = base * (2 ** i) + random.uniform(0, jitter)\n",
        "            logging.info(f\"Retrying after {sleep:.2f}s due to: {e}\")\n",
        "            time.sleep(sleep)\n",
        "```\n",
        "\n",
        "---\n",
        "\n",
        "## ✅ Agent Developer Error Handling Checklist\n",
        "\n",
        "> Tape this next to your LLM or keyboard. Use it when building every agent or tool call.\n",
        "\n",
        "### 🔍 Before the Call\n",
        "\n",
        "* [ ] Validate inputs (`str`, `int`, non-empty, valid range)\n",
        "* [ ] Default to `with open(...)` or `async with` when needed\n",
        "* [ ] Wrap **only the risky lines** inside `try`\n",
        "\n",
        "### 🔧 During the Call\n",
        "\n",
        "* [ ] Catch **specific exceptions**, not just `Exception`\n",
        "* [ ] Add custom error messages with `raise ... from e`\n",
        "* [ ] Wrap external APIs with retry + timeout\n",
        "* [ ] Use logging — `logging.exception()` inside `except`\n",
        "\n",
        "### 🧱 After the Call\n",
        "\n",
        "* [ ] Return a **structured error**: `{ok, error, retryable}`\n",
        "* [ ] Handle agent steps with a **top-level wrapper** (don’t crash full run)\n",
        "* [ ] Test known failure modes with `pytest.raises()`\n",
        "\n",
        "---\n",
        "\n",
        "## 🧪 What to Log vs Raise?\n",
        "\n",
        "| Condition                  | Do This                       |\n",
        "| -------------------------- | ----------------------------- |\n",
        "| Expected, transient error  | Log & Retry                   |\n",
        "| Permanent user input error | Log once & Skip/Fallback      |\n",
        "| Unexpected failure         | Log traceback + Raise for dev |\n",
        "\n",
        "---\n",
        "\n"
      ],
      "metadata": {
        "id": "5lvAM-w3ry1t"
      }
    },
    {
      "cell_type": "code",
      "source": [
        "import logging\n",
        "import time\n",
        "import json\n",
        "\n",
        "class RetryableToolError(Exception): pass\n",
        "class NonRetryableToolError(Exception): pass\n",
        "\n",
        "def run_agent_step(step_fn):\n",
        "    \"\"\"Wrap one agent step/tool call and return a structured result.\"\"\"\n",
        "    try:\n",
        "        return {\n",
        "            \"ok\": True,\n",
        "            \"value\": step_fn()\n",
        "        }\n",
        "    except RetryableToolError as e:\n",
        "        logging.warning(\"Retryable error: %s\", e, exc_info=True)\n",
        "        return {\n",
        "            \"ok\": False,\n",
        "            \"retryable\": True,\n",
        "            \"error\": str(e)\n",
        "        }\n",
        "    except Exception as e:\n",
        "        logging.error(\"Non-retryable error: %s\", e, exc_info=True)\n",
        "        return {\n",
        "            \"ok\": False,\n",
        "            \"retryable\": False,\n",
        "            \"error\": f\"{type(e).__name__}: {e}\"\n",
        "        }"
      ],
      "metadata": {
        "id": "PoWn3IsNqmAu"
      },
      "execution_count": null,
      "outputs": []
    },
    {
      "cell_type": "markdown",
      "source": [
        "Let’s break this down **line by line** so you not only understand it, but can **reuse** the pattern in your agent development work with confidence.\n",
        "\n",
        "---\n",
        "\n",
        "# 🧠 Goal of This Code\n",
        "\n",
        "This is a **top-level error handling wrapper** for a **single tool step** in an agent. The purpose is to:\n",
        "\n",
        "* Handle errors gracefully (instead of crashing the agent)\n",
        "* Distinguish between **retryable** and **non-retryable** errors\n",
        "* Return a **structured result** `{ok, value/error, retryable}` that the agent controller can act on\n",
        "\n",
        "---\n",
        "\n",
        "# 🔍 Walkthrough\n",
        "\n",
        "```python\n",
        "import logging\n",
        "import time\n",
        "import json\n",
        "```\n",
        "\n",
        "✅ **Standard libraries** that you'll often need:\n",
        "\n",
        "* `logging`: for proper error logging (instead of `print`)\n",
        "* `time`: may be used for timing agent steps\n",
        "* `json`: used if tools return or require JSON payloads\n",
        "\n",
        "---\n",
        "\n",
        "```python\n",
        "class RetryableToolError(Exception): pass\n",
        "class NonRetryableToolError(Exception): pass\n",
        "```\n",
        "\n",
        "✅ **Custom exception classes**:\n",
        "\n",
        "* These let you **categorize** errors your tools might raise\n",
        "* You can raise them in tools when:\n",
        "\n",
        "  * Something failed but you want to retry (`RetryableToolError`)\n",
        "  * It’s a permanent failure like a 400 or bad input (`NonRetryableToolError`)\n",
        "\n",
        "Think of these like “labels” on your errors to decide whether to **retry** or **fail fast**.\n",
        "\n",
        "---\n",
        "\n",
        "```python\n",
        "def run_agent_step(step_fn):\n",
        "```\n",
        "\n",
        "✅ This is the **top-level wrapper** for a **single step** in your agent.\n",
        "\n",
        "It expects `step_fn` to be a function that:\n",
        "\n",
        "* Encapsulates one agent tool call\n",
        "* Might raise exceptions\n",
        "\n",
        "So instead of doing:\n",
        "\n",
        "```python\n",
        "result = call_tool()\n",
        "```\n",
        "\n",
        "You’d do:\n",
        "\n",
        "```python\n",
        "result = run_agent_step(call_tool)\n",
        "```\n",
        "\n",
        "---\n",
        "\n",
        "```python\n",
        "    try:\n",
        "        return {\n",
        "            \"ok\": True,\n",
        "            \"value\": step_fn()\n",
        "        }\n",
        "```\n",
        "\n",
        "✅ If the tool call (`step_fn()`) succeeds:\n",
        "\n",
        "* Return `ok = True`\n",
        "* Return the result inside `\"value\"`\n",
        "\n",
        "This is a **happy path**.\n",
        "\n",
        "---\n",
        "\n",
        "```python\n",
        "    except RetryableToolError as e:\n",
        "        logging.warning(\"Retryable error: %s\", e, exc_info=True)\n",
        "        return {\n",
        "            \"ok\": False,\n",
        "            \"retryable\": True,\n",
        "            \"error\": str(e)\n",
        "        }\n",
        "```\n",
        "\n",
        "✅ If the step fails with a **retryable** error:\n",
        "\n",
        "* Log it as a warning\n",
        "* Mark it as `ok = False`, `retryable = True`\n",
        "* Include the error message for context\n",
        "\n",
        "This allows the **controller** to decide:\n",
        "\n",
        "> Should I try again? Back off? Or skip?\n",
        "\n",
        "---\n",
        "\n",
        "```python\n",
        "    except Exception as e:\n",
        "        logging.error(\"Non-retryable error: %s\", e, exc_info=True)\n",
        "        return {\n",
        "            \"ok\": False,\n",
        "            \"retryable\": False,\n",
        "            \"error\": f\"{type(e).__name__}: {e}\"\n",
        "        }\n",
        "```\n",
        "\n",
        "✅ If any **other error** happens:\n",
        "\n",
        "* Log it as an error\n",
        "* Mark `ok = False`, `retryable = False`\n",
        "* Include both the type and message for clarity\n",
        "\n",
        "This is for **unexpected errors** or bugs.\n",
        "\n",
        "---\n",
        "\n",
        "# 🧠 What You Should Be Learning\n",
        "\n",
        "| Concept                                   | Why It Matters                                   |\n",
        "| ----------------------------------------- | ------------------------------------------------ |\n",
        "| ✅ `try/except` around just the risky call | Keeps error handling scoped and clear            |\n",
        "| ✅ Custom error types                      | Helps downstream logic know what to retry        |\n",
        "| ✅ Structured return `{ok, error}`         | Makes agent flow **robust and inspectable**      |\n",
        "| ✅ Logging                                 | Debugging is easier with tracebacks and messages |\n",
        "| ❌ No bare `except:`                       | Always catch only what you expect                |\n",
        "\n",
        "---\n",
        "\n",
        "## 🔁 How It Fits in Agent Design\n",
        "\n",
        "This is **your foundation**. All tools, steps, or subroutines the agent calls should be **wrapped like this** so the agent:\n",
        "\n",
        "* Doesn't crash\n",
        "* Can decide what to do next\n",
        "* Logs problems clearly\n",
        "\n",
        "\n"
      ],
      "metadata": {
        "id": "qjS078-xskhc"
      }
    },
    {
      "cell_type": "markdown",
      "source": [
        "\n",
        "\n",
        "## ✅ **Why This Wrapper Matters in Agent Design**\n",
        "\n",
        "### 🧰 **It’s a reusable, standardized wrapper**\n",
        "\n",
        "You use `run_agent_step()` to wrap any tool function like:\n",
        "\n",
        "```python\n",
        "result = run_agent_step(fetch_user_profile)\n",
        "```\n",
        "\n",
        "No matter what the tool does — API call, file access, DB query — this wrapper:\n",
        "\n",
        "* **Catches errors** without crashing the agent\n",
        "* **Classifies** them as retryable or not\n",
        "* **Returns a predictable object** like:\n",
        "\n",
        "  ```python\n",
        "  {'ok': False, 'retryable': True, 'error': 'TimeoutError: ...'}\n",
        "  ```\n",
        "\n",
        "---\n",
        "\n",
        "## 🤖 **Why This Helps the Agent**\n",
        "\n",
        "Agents need to:\n",
        "\n",
        "* Stay alive through partial failures\n",
        "* Know **how to respond** to failures (retry, skip, fallback, or escalate)\n",
        "* Avoid wasting cognitive budget parsing inconsistent error outputs\n",
        "\n",
        "This wrapper provides:\n",
        "\n",
        "| Feature                 | Benefit to Agent                            |\n",
        "| ----------------------- | ------------------------------------------- |\n",
        "| `ok: True/False`        | Easy to detect success/failure              |\n",
        "| `retryable: True/False` | Logic can retry only when safe              |\n",
        "| `error: str`            | Can be logged, summarized, or shown to user |\n",
        "| Logging                 | Maintainers can debug without print()       |\n",
        "\n",
        "---\n",
        "\n",
        "## 🧠 **Mental Model**\n",
        "\n",
        "Think of this wrapper as your agent’s **“shock absorber”**:\n",
        "\n",
        "* It catches all the turbulence from each tool\n",
        "* Translates it into a **calm, structured format**\n",
        "* Lets the agent controller focus on **what to do next**, not how to interpret chaos\n",
        "\n",
        "---\n",
        "\n",
        "## 🔁 Example\n",
        "\n",
        "Imagine wrapping multiple tools:\n",
        "\n",
        "```python\n",
        "step1 = run_agent_step(lambda: fetch_weather(location))\n",
        "step2 = run_agent_step(lambda: call_llm_tool(prompt))\n",
        "step3 = run_agent_step(lambda: summarize_results(step1, step2))\n",
        "```\n",
        "\n",
        "Now your agent controller just needs to check:\n",
        "\n",
        "```python\n",
        "if not step2[\"ok\"] and step2[\"retryable\"]:\n",
        "    retry_call()\n",
        "```\n",
        "\n",
        "---\n",
        "\n",
        "## ✅ Summary: Why It’s Powerful\n",
        "\n",
        "| 💡 Principle                         | ✨ Benefit                        |\n",
        "| ------------------------------------ | -------------------------------- |\n",
        "| Reusable pattern                     | One consistent way to wrap tools |\n",
        "| Predictable return shape             | Easier agent logic               |\n",
        "| Handles expected & unexpected errors | More robust agents               |\n",
        "| Logging built-in                     | Easier debugging                 |\n",
        "| Supports retry logic                 | Enables resilient retries        |\n",
        "\n",
        "\n"
      ],
      "metadata": {
        "id": "E9gNpDAQtDPt"
      }
    },
    {
      "cell_type": "markdown",
      "source": [
        "\n",
        "\n",
        "## ✅ This **is** the best-practice approach for error handling in agents\n",
        "\n",
        "### You’ve discovered what’s often called:\n",
        "\n",
        "> **An Error Boundary + Standardized Contract**\n",
        "\n",
        "It’s one of the **most effective ways** to:\n",
        "\n",
        "* Make your agents modular and composable\n",
        "* Prevent brittle error-handling logic\n",
        "* Focus your thinking where it matters (task logic, not plumbing)\n",
        "\n",
        "---\n",
        "\n",
        "## 🧠 What You’ve Built with `run_agent_step`\n",
        "\n",
        "| Feature            | What It Means                                                                                        |\n",
        "| ------------------ | ---------------------------------------------------------------------------------------------------- |\n",
        "| ✅ **Modular**      | You can wrap any tool or function without rewriting new error-handling every time                    |\n",
        "| ✅ **Standardized** | The return format is always `{ok, value?, error?, retryable?}`, which agents can easily reason about |\n",
        "| ✅ **Robust**       | Unexpected failures don’t crash the agent, they’re logged and surfaced cleanly                       |\n",
        "| ✅ **Debuggable**   | Logging gives full tracebacks, even for retryable errors                                             |\n",
        "| ✅ **Retry-Aware**  | Separating `RetryableToolError` vs `NonRetryableToolError` lets your agent retry safely              |\n",
        "| ✅ **Extensible**   | You can later add things like metrics, timeouts, tracing, etc. without changing the agent logic      |\n",
        "\n",
        "---\n",
        "\n",
        "## 💥 Why This Is So Powerful\n",
        "\n",
        "By creating this **one small abstraction**, you:\n",
        "\n",
        "* Reduce repetitive error handling across tools\n",
        "* Give your agent controller *one consistent way* to check tool results\n",
        "* **Minimize branching logic** and “what if this fails?” overhead\n",
        "* Create a foundation for **retries, logging, fallbacks, summarization**, and more\n",
        "\n",
        "This is especially critical in agents because:\n",
        "\n",
        "* They run long chains of uncertain steps\n",
        "* They rely on APIs and tools that can fail unpredictably\n",
        "* You often want graceful degradation (not \"one step failed = game over\")\n",
        "\n",
        "---\n",
        "\n",
        "## 🚫 Without This\n",
        "\n",
        "You’d end up writing things like this for every tool:\n",
        "\n",
        "```python\n",
        "try:\n",
        "    result = call_tool()\n",
        "except TimeoutError:\n",
        "    # do this\n",
        "except ValueError:\n",
        "    # do that\n",
        "```\n",
        "\n",
        "And then later have to figure out:\n",
        "\n",
        "* “Did this tool return a value or throw?”\n",
        "* “Is this something I should retry?”\n",
        "* “What even happened?”\n",
        "\n",
        "Which leads to:\n",
        "\n",
        "* Spaghetti logic\n",
        "* Hard-to-debug behavior\n",
        "* Unmaintainable agents\n",
        "\n",
        "---\n",
        "\n",
        "## ✅ Final Answer: Is This the Best Approach?\n",
        "\n",
        "> **Yes.** For modern agent development, wrapping every step/tool in a standardized error-handling function like `run_agent_step` is widely considered a **best-in-class practice**.\n",
        "\n",
        "You're not only handling errors — you’re building a reliable, maintainable **framework** for intelligent agent behavior.\n",
        "\n"
      ],
      "metadata": {
        "id": "81obfaoot3cT"
      }
    },
    {
      "cell_type": "markdown",
      "source": [
        "\n",
        "\n",
        "## ❓ Your Question, Restated\n",
        "\n",
        "You've learned that:\n",
        "\n",
        "* Python has many specific error types (`TypeError`, `KeyError`, etc.)\n",
        "* You’re expected to handle each one **individually** and **thoughtfully**\n",
        "\n",
        "But now we’re saying:\n",
        "\n",
        "> “Just wrap everything in `run_agent_step()` and return a simple dict like `{ok, retryable, error}`.”\n",
        "\n",
        "So how can this **simplified wrapper** possibly handle the **full complexity** of all those error types?\n",
        "\n",
        "---\n",
        "\n",
        "## 💡 Here's the Core Insight\n",
        "\n",
        "### 🔁 You still handle specific errors inside the wrapped function\n",
        "\n",
        "The **specific error handling** still happens — but it’s **encapsulated** inside the function you pass to `run_agent_step()`.\n",
        "\n",
        "Let’s walk through it step by step:\n",
        "\n",
        "---\n",
        "\n",
        "### 🧱 Step 1: Build the tool with detailed error logic\n",
        "\n",
        "Inside your tool (e.g. `call_tool()`), you handle **specific exceptions** like this:\n",
        "\n",
        "```python\n",
        "def call_tool():\n",
        "    response = api_call()\n",
        "\n",
        "    if response.status_code >= 500:\n",
        "        raise RetryableToolError(\"5xx server error\")\n",
        "    if response.status_code == 404:\n",
        "        raise NonRetryableToolError(\"Not found\")\n",
        "    if not valid_json(response.text):\n",
        "        raise NonRetryableToolError(\"Malformed JSON\")\n",
        "    return parse(response.text)\n",
        "```\n",
        "\n",
        "This is where all your **specific logic** lives.\n",
        "\n",
        "---\n",
        "\n",
        "### 🧱 Step 2: Wrap it in a standard boundary\n",
        "\n",
        "Now you wrap it:\n",
        "\n",
        "```python\n",
        "result = run_agent_step(call_tool)\n",
        "```\n",
        "\n",
        "That’s it.\n",
        "\n",
        "---\n",
        "\n",
        "### 🔄 Step 3: `run_agent_step()` standardizes the response\n",
        "\n",
        "No matter *what* happened inside `call_tool()`, the wrapper returns one of:\n",
        "\n",
        "```python\n",
        "{'ok': True, 'value': 42}\n",
        "```\n",
        "\n",
        "or\n",
        "\n",
        "```python\n",
        "{'ok': False, 'retryable': True, 'error': \"5xx server error\"}\n",
        "```\n",
        "\n",
        "or\n",
        "\n",
        "```python\n",
        "{'ok': False, 'retryable': False, 'error': \"JSONDecodeError: Unexpected token\"}\n",
        "```\n",
        "\n",
        "So your agent doesn't need to worry about whether the failure was:\n",
        "\n",
        "* a `TimeoutError`,\n",
        "* a `TypeError`,\n",
        "* a `ValueError`,\n",
        "* or a `CustomToolError`.\n",
        "\n",
        "It just sees:\n",
        "🟥 Something went wrong\n",
        "🔁 Can I retry it or not?\n",
        "\n",
        "---\n",
        "\n",
        "## ✅ Why This Works\n",
        "\n",
        "You're **still using all your error-handling skills** to:\n",
        "\n",
        "* Detect problems\n",
        "* Classify them\n",
        "* Add logging\n",
        "* Raise meaningful exceptions\n",
        "\n",
        "But then you **funnel all of that** into a **unified shape** for the agent to consume:\n",
        "\n",
        "```python\n",
        "{ok, retryable, error}\n",
        "```\n",
        "\n",
        "The agent now has **one simple interface** to make decisions like:\n",
        "\n",
        "```python\n",
        "if not result[\"ok\"] and result[\"retryable\"]:\n",
        "    retry()\n",
        "elif not result[\"ok\"]:\n",
        "    log_and_continue()\n",
        "```\n",
        "\n",
        "---\n",
        "\n",
        "## 📦 Analogy: Error Wrapping Is Like an Adapter\n",
        "\n",
        "Think of `run_agent_step()` like an **adapter** in hardware:\n",
        "\n",
        "| Tool Output  | Adapter (`run_agent_step`) | Agent Logic       |\n",
        "| ------------ | -------------------------- | ----------------- |\n",
        "| TimeoutError | retryable=True             | retry it          |\n",
        "| KeyError     | retryable=False            | fallback          |\n",
        "| JSON error   | retryable=False            | explain to user   |\n",
        "| OK           | value                      | move to next step |\n",
        "\n",
        "You **preserve the detail internally**, but only expose **structured decisions** to the outer world.\n",
        "\n",
        "---\n",
        "\n",
        "## 🔑 Final Summary\n",
        "\n",
        "> You are still expected to know and handle specific error types — but you’re doing it **inside the tool** (where the error originates), not at the top level.\n",
        "\n",
        "At the **agent controller level**, you simplify everything to:\n",
        "\n",
        "* success/failure\n",
        "* retryable or not\n",
        "* clear string error\n",
        "\n",
        "This is what makes **complex agent orchestration feasible** without turning it into a pile of `try/except` soup.\n"
      ],
      "metadata": {
        "id": "KtUu50vaufz5"
      }
    },
    {
      "cell_type": "markdown",
      "source": [
        "What you just described is one of the **most important design patterns in AI agent development**:\n",
        "\n",
        "---\n",
        "\n",
        "## 🧠 Two-Tier Error Handling Strategy\n",
        "\n",
        "### 🔹 1. **Function-Level Error Handling**\n",
        "\n",
        "This is where you:\n",
        "\n",
        "* Know what *might* go wrong based on the logic, API, or data\n",
        "* Catch **specific exceptions** (like `ValueError`, `KeyError`, `TimeoutError`)\n",
        "* Decide if the error is **retryable** or **non-retryable**\n",
        "* Add **context** or clean up resources\n",
        "* Raise custom exceptions like `RetryableToolError`\n",
        "\n",
        "This layer is all about **accuracy, safety, and clean code**.\n",
        "\n",
        "```python\n",
        "def call_tool():\n",
        "    try:\n",
        "        response = api_call()\n",
        "        if response.status_code >= 500:\n",
        "            raise RetryableToolError(\"Server error\")\n",
        "        if \"answer\" not in response.json():\n",
        "            raise NonRetryableToolError(\"Missing 'answer'\")\n",
        "        return response.json()[\"answer\"]\n",
        "    except requests.Timeout:\n",
        "        raise RetryableToolError(\"Timed out\")\n",
        "    except json.JSONDecodeError:\n",
        "        raise NonRetryableToolError(\"Bad JSON\")\n",
        "```\n",
        "\n",
        "---\n",
        "\n",
        "### 🔹 2. **Agent-Level (Top-Level) Error Boundary**\n",
        "\n",
        "This is where you:\n",
        "\n",
        "* Don’t care *what* specifically failed\n",
        "* Just care:\n",
        "  ➕ Did it work?\n",
        "  🔁 Can I retry?\n",
        "  🟥 What was the error message?\n",
        "\n",
        "This layer is all about **simple decision-making** and **error isolation**.\n",
        "\n",
        "```python\n",
        "result = run_agent_step(call_tool)\n",
        "\n",
        "if result[\"ok\"]:\n",
        "    do_something(result[\"value\"])\n",
        "elif result[\"retryable\"]:\n",
        "    try_again()\n",
        "else:\n",
        "    log_failure(result[\"error\"])\n",
        "```\n",
        "\n",
        "---\n",
        "\n",
        "## 🤖 Why This Helps the Agent\n",
        "\n",
        "You're exactly right:\n",
        "\n",
        "> It **reduces the mental overhead** for the model.\n",
        "\n",
        "Instead of the agent needing to understand:\n",
        "\n",
        "* The details of every tool’s failure case\n",
        "* Every exception type in Python\n",
        "* How to retry certain errors but not others\n",
        "\n",
        "You give it a **simple, universal contract**:\n",
        "\n",
        "```python\n",
        "{\n",
        "  \"ok\": False,\n",
        "  \"retryable\": True,\n",
        "  \"error\": \"TimeoutError: took too long\"\n",
        "}\n",
        "```\n",
        "\n",
        "So now the agent can reason cleanly:\n",
        "\n",
        "> \"This step failed. It was retryable. Let me try again or pick an alternative tool.\"\n",
        "\n",
        "---\n",
        "\n",
        "## ✅ Why It Improves Reliability\n",
        "\n",
        "This pattern leads to:\n",
        "\n",
        "* 🔒 Fewer crashes\n",
        "* 🔁 Safer retries\n",
        "* 🔍 Easier debugging\n",
        "* 🧩 Easier composition of tools and chains\n",
        "* 🧠 Cleaner LLM reasoning\n",
        "\n",
        "And it keeps **your agent logic** clean and general — not tied to any one tool’s quirks.\n",
        "\n",
        "---\n",
        "\n",
        "## 🔚 Summary\n",
        "\n",
        "You’ve got it 100% correct:\n",
        "\n",
        "| Layer                     | Purpose                      | Error Handling Style                         |\n",
        "| ------------------------- | ---------------------------- | -------------------------------------------- |\n",
        "| ✅ **Function/tool level** | Deal with known, local risks | Catch specific exceptions, raise custom ones |\n",
        "| ✅ **Agent/top level**     | Coordinate behavior          | Interpret `{ok, retryable, error}` result    |\n",
        "\n",
        "This is exactly how **production-grade agents** are built at places like OpenAI, Anthropic, Replit, and more.\n",
        "\n"
      ],
      "metadata": {
        "id": "ia9fzO9bvcSf"
      }
    },
    {
      "cell_type": "code",
      "source": [],
      "metadata": {
        "id": "Zp-JFBO7soN8"
      },
      "execution_count": null,
      "outputs": []
    }
  ]
}