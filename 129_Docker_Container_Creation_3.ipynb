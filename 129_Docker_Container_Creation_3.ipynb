{
  "nbformat": 4,
  "nbformat_minor": 0,
  "metadata": {
    "colab": {
      "provenance": [],
      "toc_visible": true,
      "authorship_tag": "ABX9TyNOfllolqIbNzaLe+Kp+u/l",
      "include_colab_link": true
    },
    "kernelspec": {
      "name": "python3",
      "display_name": "Python 3"
    },
    "language_info": {
      "name": "python"
    }
  },
  "cells": [
    {
      "cell_type": "markdown",
      "metadata": {
        "id": "view-in-github",
        "colab_type": "text"
      },
      "source": [
        "<a href=\"https://colab.research.google.com/github/micah-shull/AI_Agents/blob/main/129_Docker_Container_Creation_3.ipynb\" target=\"_parent\"><img src=\"https://colab.research.google.com/assets/colab-badge.svg\" alt=\"Open In Colab\"/></a>"
      ]
    },
    {
      "cell_type": "markdown",
      "source": [
        "\n",
        "\n",
        "# 🚀 Docker Project Checklist (1-Page)\n",
        "\n",
        "### 📂 Project Setup\n",
        "\n",
        "```bash\n",
        "mkdir myproject && cd myproject   # create project folder\n",
        "nano Dockerfile                   # create Dockerfile\n",
        "nano .dockerignore                 # create .dockerignore\n",
        "nano requirements.txt              # runtime deps\n",
        "nano requirements-dev.txt          # dev tooling\n",
        "nano main.py                       # entry/test script\n",
        "nano claude_chat.py                # (your Claude helper functions)\n",
        "nano .env                          # API keys (local only, not copied into image)\n",
        "```\n",
        "\n",
        "### 📄 Typical Files\n",
        "\n",
        "* **Dockerfile** → recipe for environment\n",
        "* **.dockerignore** → exclude junk/secrets\n",
        "* **requirements.txt** → runtime Python deps\n",
        "* **requirements-dev.txt** → dev tooling\n",
        "* **main.py** → minimal entrypoint/test script\n",
        "* **claude\\_chat.py** → reusable Claude helper functions\n",
        "* **.env** → API keys (local only, safe from Git/Docker builds)\n",
        "\n",
        "---\n",
        "\n",
        "### 🛠️ Build & Run\n",
        "\n",
        "```bash\n",
        "# Build runtime image\n",
        "docker build -t myproject:latest .\n",
        "\n",
        "# Build dev image (with Jupyter, pytest, etc.)\n",
        "docker build -t myproject:dev --build-arg INSTALL_DEV=true .\n",
        "\n",
        "# Run runtime app with secrets\n",
        "docker run --rm --env-file .env myproject:latest\n",
        "\n",
        "# Run with interactive shell\n",
        "docker run -it myproject:latest bash\n",
        "\n",
        "# Run Jupyter in dev mode\n",
        "docker run --rm -it -p 8888:8888 myproject:dev \\\n",
        "    jupyter lab --ip=0.0.0.0 --allow-root\n",
        "```\n",
        "\n",
        "### 🧹 Cleanup (optional)\n",
        "\n",
        "```bash\n",
        "docker builder prune      # clear build cache\n",
        "docker system prune -a    # remove all unused containers/images\n",
        "```\n",
        "\n",
        "\n"
      ],
      "metadata": {
        "id": "niR5gdhuH-dX"
      }
    },
    {
      "cell_type": "markdown",
      "source": [
        "# 🚀 Docker Project Template for Data/ML Projects\n",
        "\n",
        "## 📂 Folder Structure\n",
        "\n"
      ],
      "metadata": {
        "id": "zylXt_figpkw"
      }
    },
    {
      "cell_type": "code",
      "source": [
        "myproject/\n",
        "├── .dockerignore          # excludes junk/secrets from images\n",
        "├── Dockerfile             # recipe for building container\n",
        "├── requirements.txt       # runtime dependencies (Claude, rich, etc.)\n",
        "├── requirements-dev.txt   # developer dependencies (Jupyter, pytest, etc.)\n",
        "├── .env                   # API keys (never committed, ignored by Git)\n",
        "│\n",
        "├── main.py                # minimal entrypoint (system check + hello Claude)\n",
        "│\n",
        "├── claude_chat.py         # Claude chat helper functions (multi-turn chat, pretty printing)\n",
        "│\n",
        "└── src/                   # your experiments & agent scripts\n",
        "    ├── chat_loop.py       # interactive REPL with Claude\n",
        "    ├── data_pipeline.py   # future data/ML experiments\n",
        "    └── agent_loop.py      # agent orchestration logic\n"
      ],
      "metadata": {
        "id": "hlrJUt92k_zm"
      },
      "execution_count": null,
      "outputs": []
    },
    {
      "cell_type": "markdown",
      "source": [
        "# Build Container Requirement Docs"
      ],
      "metadata": {
        "id": "yVoHFsK7AR3b"
      }
    },
    {
      "cell_type": "markdown",
      "source": [
        "\n",
        "## 📄 1. `.dockerignore`\n",
        "\n",
        "Keeps junk, secrets, and large data out of your images.\n"
      ],
      "metadata": {
        "id": "pIjl_x3Sg0ba"
      }
    },
    {
      "cell_type": "code",
      "source": [
        "nano .dockerignore # then paste the following to create the doc"
      ],
      "metadata": {
        "id": "628__22i-f_K"
      },
      "execution_count": null,
      "outputs": []
    },
    {
      "cell_type": "code",
      "source": [
        "# Python cache\n",
        "__pycache__/\n",
        "*.pyc\n",
        "*.pyo\n",
        "*.pyd\n",
        "\n",
        "# Virtual environments\n",
        "venv/\n",
        "env/\n",
        ".venv/\n",
        "\n",
        "# Jupyter Notebook checkpoints\n",
        ".ipynb_checkpoints/\n",
        "\n",
        "# OS files\n",
        ".DS_Store\n",
        "Thumbs.db\n",
        "\n",
        "# Git and version control\n",
        ".git\n",
        ".gitignore\n",
        ".gitattributes\n",
        "\n",
        "# Logs & debug\n",
        "*.log\n",
        "*.out\n",
        "*.err\n",
        "\n",
        "# Data & models (better to mount at runtime!)\n",
        "data/\n",
        "datasets/\n",
        "*.csv\n",
        "*.parquet\n",
        "*.h5\n",
        "*.pkl\n",
        "\n",
        "# Large results\n",
        "outputs/\n",
        "results/\n",
        "checkpoints/\n",
        "\n",
        "# Secrets\n",
        ".env\n",
        "*.secret\n",
        "*.key"
      ],
      "metadata": {
        "id": "awvZNHdXg2xe"
      },
      "execution_count": null,
      "outputs": []
    },
    {
      "cell_type": "markdown",
      "source": [
        "\n",
        "## 📄 2. `requirements.txt`\n",
        "\n",
        "**Runtime essentials** (only what your app needs to run):\n",
        "\n",
        "* **anthropic** → Claude API client\n",
        "* **rich** → pretty terminal output (markdown, code blocks)\n",
        "* **numpy / pandas / scikit-learn** → ML/data science stack (optional, but great if you’re doing experiments)\n",
        "\n",
        "\n"
      ],
      "metadata": {
        "id": "IK56E4i_hAWn"
      }
    },
    {
      "cell_type": "code",
      "source": [
        "nano requirements.txt"
      ],
      "metadata": {
        "id": "S35V5tFb_HKw"
      },
      "execution_count": null,
      "outputs": []
    },
    {
      "cell_type": "code",
      "source": [
        "anthropic>=0.37.0\n",
        "rich==13.7.1\n",
        "numpy==1.26.4\n",
        "pandas==2.2.2\n",
        "scikit-learn==1.5.1"
      ],
      "metadata": {
        "id": "C5hsgzKrhG6W"
      },
      "execution_count": null,
      "outputs": []
    },
    {
      "cell_type": "markdown",
      "source": [
        "## 📄 3. `requirements-dev.txt`\n",
        "\n",
        "**Developer extras** (useful for notebooks, testing, formatting):\n"
      ],
      "metadata": {
        "id": "1J0S7PqKhCP9"
      }
    },
    {
      "cell_type": "code",
      "source": [
        "nano requirements-dev.txt"
      ],
      "metadata": {
        "id": "0tjmMD6z_6LQ"
      },
      "execution_count": null,
      "outputs": []
    },
    {
      "cell_type": "code",
      "source": [
        "jupyterlab==4.3.0\n",
        "ipykernel==6.29.5\n",
        "pytest==8.3.3\n",
        "flake8==7.1.1\n",
        "black==24.8.0"
      ],
      "metadata": {
        "id": "SwqQ_1VYhEhg"
      },
      "execution_count": null,
      "outputs": []
    },
    {
      "cell_type": "markdown",
      "source": [
        "## 📄 4. `Dockerfile`\n",
        "\n",
        "The full environment recipe:"
      ],
      "metadata": {
        "id": "NIOfxpIWhKmm"
      }
    },
    {
      "cell_type": "code",
      "source": [
        "nano Dockerfile"
      ],
      "metadata": {
        "id": "A87bqHRAANv3"
      },
      "execution_count": null,
      "outputs": []
    },
    {
      "cell_type": "code",
      "source": [
        "FROM python:3.11-slim\n",
        "\n",
        "# Prevents pyc files, forces flush of stdout/stderr\n",
        "ENV PYTHONDONTWRITEBYTECODE=1\n",
        "ENV PYTHONUNBUFFERED=1\n",
        "\n",
        "# System deps\n",
        "RUN apt-get update && apt-get install -y --no-install-recommends \\\n",
        "    build-essential \\\n",
        "    curl \\\n",
        "    git \\\n",
        "    wget \\\n",
        "    ca-certificates \\\n",
        "    && rm -rf /var/lib/apt/lists/*\n",
        "\n",
        "# Workdir\n",
        "WORKDIR /app\n",
        "\n",
        "# Copy dependency files first (better cache)\n",
        "COPY requirements.txt requirements-dev.txt ./\n",
        "\n",
        "# Install runtime deps\n",
        "RUN pip install --no-cache-dir -r requirements.txt\n",
        "\n",
        "# Optional dev deps\n",
        "ARG INSTALL_DEV=false\n",
        "RUN if [ \"$INSTALL_DEV\" = \"true\" ] ; then pip install --no-cache-dir -r requirements-dev.txt ; fi\n",
        "\n",
        "# Copy code\n",
        "COPY . .\n",
        "\n",
        "# Default run\n",
        "CMD [\"python\", \"main.py\"]"
      ],
      "metadata": {
        "id": "xPGvokOghNVB"
      },
      "execution_count": null,
      "outputs": []
    },
    {
      "cell_type": "markdown",
      "source": [
        "\n",
        "\n",
        "## 📄 5. `main.py`\n",
        "\n",
        "This should stay **minimal**. Its job is to:\n",
        "\n",
        "* Confirm your container runs correctly (print Python version, OS, args).\n",
        "* Do a quick “hello world” test with Claude, using helper functions from `claude_chat.py`.\n",
        "* Act as the **entrypoint** your Dockerfile runs by default.\n",
        "\n"
      ],
      "metadata": {
        "id": "89VWgVxel71H"
      }
    },
    {
      "cell_type": "code",
      "source": [
        "nano main.py"
      ],
      "metadata": {
        "id": "9V8Rr5T9BAwU"
      },
      "execution_count": null,
      "outputs": []
    },
    {
      "cell_type": "code",
      "source": [
        "import sys, platform, os\n",
        "from claude_chat import chat_with_claude, reset_conversation\n",
        "\n",
        "def main():\n",
        "    name = os.getenv(\"NAME\", \"world\")\n",
        "    print(f\"Hello, {name} 👋\")\n",
        "    print(\"Python:\", platform.python_version())\n",
        "    print(\"OS:\", platform.platform())\n",
        "    print(\"Args:\", sys.argv[1:])\n",
        "\n",
        "    reset_conversation()\n",
        "    chat_with_claude(\"Hello Claude, can you confirm you’re working?\")\n",
        "\n",
        "if __name__ == \"__main__\":\n",
        "    main()\n"
      ],
      "metadata": {
        "id": "VFXrFK7glIEi"
      },
      "execution_count": null,
      "outputs": []
    },
    {
      "cell_type": "markdown",
      "source": [
        "\n",
        "\n",
        "## 📄 6. `claude_chat.py`\n",
        "\n",
        "This file holds all the **Claude helper functions** so `main.py` can stay clean.\n",
        "\n",
        "\n"
      ],
      "metadata": {
        "id": "8GCaKcazC0Br"
      }
    },
    {
      "cell_type": "code",
      "source": [
        "nano claude_chat.py"
      ],
      "metadata": {
        "id": "ypdfzsGsCBJA"
      },
      "execution_count": null,
      "outputs": []
    },
    {
      "cell_type": "code",
      "source": [
        "import os, textwrap\n",
        "from anthropic import Anthropic\n",
        "from anthropic._exceptions import APIError\n",
        "from rich.console import Console\n",
        "from rich.markdown import Markdown\n",
        "\n",
        "# API setup\n",
        "anthropic_key = os.getenv(\"ANTHROPIC_API_KEY\")\n",
        "if not anthropic_key:\n",
        "    raise RuntimeError(\"Missing ANTHROPIC_API_KEY environment variable.\")\n",
        "\n",
        "client = Anthropic(api_key=anthropic_key)\n",
        "MODEL_NAME = \"claude-3-5-sonnet-20240620\"\n",
        "\n",
        "# Conversation history\n",
        "conversation = []\n",
        "\n",
        "# Pretty printing setup\n",
        "console = Console()\n",
        "\n",
        "def smart_print_markdown(output: str, width: int = 100):\n",
        "    \"\"\"Wrap plain text, preserve fenced code blocks.\"\"\"\n",
        "    in_code = False\n",
        "    para_buf = []\n",
        "\n",
        "    def flush_paragraph():\n",
        "        if para_buf:\n",
        "            text = \" \".join(para_buf)\n",
        "            print(textwrap.fill(text, width=width, replace_whitespace=False))\n",
        "            print()\n",
        "            para_buf.clear()\n",
        "\n",
        "    for line in output.splitlines():\n",
        "        fence = line.strip().startswith(\"```\")\n",
        "        if fence:\n",
        "            flush_paragraph()\n",
        "            print(line)\n",
        "            in_code = not in_code\n",
        "            continue\n",
        "\n",
        "        if in_code:\n",
        "            print(line)\n",
        "        else:\n",
        "            if line.strip() == \"\":\n",
        "                flush_paragraph()\n",
        "            else:\n",
        "                para_buf.append(line)\n",
        "\n",
        "    flush_paragraph()\n",
        "\n",
        "def chat_with_claude(\n",
        "    prompt: str,\n",
        "    system: str = \"You are a helpful coding assistant.\",\n",
        "    render: str = \"markdown\",      # 'markdown' | 'wrapped' | 'none'\n",
        "    return_text: bool = False,\n",
        "    wrap_width: int = 100,\n",
        ") -> str | None:\n",
        "    \"\"\"Send a prompt with conversation memory.\"\"\"\n",
        "    if not anthropic_key:\n",
        "        raise RuntimeError(\"Missing ANTHROPIC_API_KEY.\")\n",
        "\n",
        "    conversation.append({\"role\": \"user\", \"content\": prompt})\n",
        "\n",
        "    try:\n",
        "        msg = client.messages.create(\n",
        "            model=MODEL_NAME,\n",
        "            max_tokens=1000,\n",
        "            temperature=0.2,\n",
        "            system=system,\n",
        "            messages=conversation,\n",
        "        )\n",
        "        parts = [b.text for b in msg.content if getattr(b, \"type\", None) == \"text\"]\n",
        "        output = \"\\n\\n\".join(parts).strip() or \"(No text)\"\n",
        "\n",
        "        if render == \"markdown\":\n",
        "            console.print(Markdown(output))\n",
        "        elif render == \"wrapped\":\n",
        "            smart_print_markdown(output, width=wrap_width)\n",
        "\n",
        "        conversation.append({\"role\": \"assistant\", \"content\": output})\n",
        "        return output if return_text else None\n",
        "\n",
        "    except APIError as e:\n",
        "        print(\"Anthropic API error:\", e)\n",
        "        raise\n",
        "\n",
        "def reset_conversation():\n",
        "    \"\"\"Clear conversation history.\"\"\"\n",
        "    conversation.clear()\n",
        "\n",
        "def last_reply() -> str | None:\n",
        "    \"\"\"Get last assistant message.\"\"\"\n",
        "    for m in reversed(conversation):\n",
        "        if m[\"role\"] == \"assistant\":\n",
        "            return m[\"content\"]\n",
        "    return None"
      ],
      "metadata": {
        "id": "SzlNcy94fGmk"
      },
      "execution_count": null,
      "outputs": []
    },
    {
      "cell_type": "markdown",
      "source": [
        "\n",
        "## 🔐 7. `.env`\n",
        "\n",
        "This file stores your **secret environment variables** (like API keys)."
      ],
      "metadata": {
        "id": "NHMUnvgxD0G9"
      }
    },
    {
      "cell_type": "code",
      "source": [
        "nano.env"
      ],
      "metadata": {
        "id": "bIyj6GTFD72S"
      },
      "execution_count": null,
      "outputs": []
    },
    {
      "cell_type": "code",
      "source": [
        "ANTHROPIC_API_KEY=your_api_key_here"
      ],
      "metadata": {
        "id": "HgdArfQ_D-0k"
      },
      "execution_count": null,
      "outputs": []
    },
    {
      "cell_type": "markdown",
      "source": [
        "## 🛠️ 8: Building Docker Images"
      ],
      "metadata": {
        "id": "ZY6fwbb4E4ZC"
      }
    },
    {
      "cell_type": "code",
      "source": [
        "# Build the runtime image\n",
        "docker build -t myproject:latest .\n",
        "\n",
        "# Build the dev image (includes Jupyter, pytest, etc.)\n",
        "docker build -t myproject:dev --build-arg INSTALL_DEV=true .\n"
      ],
      "metadata": {
        "id": "xsQLS4CHnwTS"
      },
      "execution_count": null,
      "outputs": []
    },
    {
      "cell_type": "markdown",
      "source": [
        "\n",
        "\n",
        "## Confirm Container Creation\n",
        "---\n",
        "\n",
        "### 🔍 Step 1: List all images\n",
        "\n",
        "```bash\n",
        "docker images\n",
        "myproject:latest → your runtime image (leaner).\n",
        "myproject:dev → your dev image (larger, has Jupyter, pytest, etc.).\n",
        "```\n",
        "---\n",
        "\n",
        "## 🔍 Step 2: Run the runtime image\n",
        "\n",
        "Test if `main.py` works with your `.env`:\n",
        "\n",
        "```bash\n",
        "docker run --rm --env-file .env myproject:latest\n",
        "```\n",
        "\n",
        "## 🔍 Step 3: Run the dev image (optional test)\n",
        "\n",
        "Start Jupyter from inside the dev image:\n",
        "\n",
        "```bash\n",
        "docker run --rm -it -p 8888:8888 myproject:dev jupyter lab --ip=0.0.0.0 --allow-root\n",
        "```\n"
      ],
      "metadata": {
        "id": "i5WmnY8GG8Lm"
      }
    },
    {
      "cell_type": "markdown",
      "source": [
        "\n",
        "\n",
        "# 💻 Basic Terminal Commands Cheat Sheet\n",
        "\n",
        "### 📂 File & Folder Navigation\n",
        "\n",
        "```bash\n",
        "pwd               # print working directory\n",
        "ls                # list files\n",
        "ls -a             # list all files (including hidden)\n",
        "cd foldername     # change directory\n",
        "cd ..             # go up one level\n",
        "```\n",
        "\n",
        "### 📁 Create / Move / Delete\n",
        "\n",
        "```bash\n",
        "mkdir myfolder                # make a new folder\n",
        "touch file.txt                # create empty file\n",
        "mv oldname.txt newname.txt    # rename/move file\n",
        "cp file.txt copy.txt          # copy file\n",
        "rm file.txt                   # delete file\n",
        "rm -r myfolder                # delete folder (recursive)\n",
        "```\n",
        "\n",
        "### 📄 Viewing Files\n",
        "\n",
        "```bash\n",
        "cat file.txt        # show entire file\n",
        "less file.txt       # scroll through file (press q to quit)\n",
        "head file.txt       # show first 10 lines\n",
        "tail file.txt       # show last 10 lines\n",
        "```\n",
        "\n",
        "### 📝 Editing Files\n",
        "\n",
        "```bash\n",
        "nano file.txt       # edit file in nano (Ctrl+O save, Ctrl+X exit)\n",
        "```\n",
        "\n",
        "### ⚙️ System Info (inside container)\n",
        "\n",
        "```bash\n",
        "python --version    # check Python version\n",
        "env                 # list environment variables\n",
        "which python        # find where python is installed\n",
        "```\n",
        "\n",
        "\n"
      ],
      "metadata": {
        "id": "3fIS0hOnSD2x"
      }
    },
    {
      "cell_type": "code",
      "source": [],
      "metadata": {
        "id": "rAx3XBKd7s9-"
      },
      "execution_count": null,
      "outputs": []
    }
  ]
}