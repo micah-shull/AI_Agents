{
  "nbformat": 4,
  "nbformat_minor": 0,
  "metadata": {
    "colab": {
      "provenance": [],
      "authorship_tag": "ABX9TyPvRBp9Xua9CKLUK8Heua4J",
      "include_colab_link": true
    },
    "kernelspec": {
      "name": "python3",
      "display_name": "Python 3"
    },
    "language_info": {
      "name": "python"
    }
  },
  "cells": [
    {
      "cell_type": "markdown",
      "metadata": {
        "id": "view-in-github",
        "colab_type": "text"
      },
      "source": [
        "<a href=\"https://colab.research.google.com/github/micah-shull/AI_Agents/blob/main/123_Logging_1.ipynb\" target=\"_parent\"><img src=\"https://colab.research.google.com/assets/colab-badge.svg\" alt=\"Open In Colab\"/></a>"
      ]
    },
    {
      "cell_type": "markdown",
      "source": [
        "\n",
        "\n",
        "## 🧱 Logging Setup Plan\n",
        "\n",
        "1. **Define** the `setup_logging()` function at the top\n",
        "2. **Call** `setup_logging()` immediately after\n",
        "3. Then begin building out the rest of your agent code\n",
        "\n",
        "---\n",
        "\n",
        "## 🔍 Breakdown: What Each Part Does\n",
        "\n",
        "```python\n",
        "def setup_logging(log_file=\"agent_log.txt\", level=logging.INFO):\n",
        "```\n",
        "\n",
        "* Lets you **customize** the log file and verbosity level\n",
        "* `level=logging.INFO` means you'll capture INFO, WARNING, ERROR, etc.\n",
        "\n",
        "---\n",
        "\n",
        "```python\n",
        "for handler in logging.root.handlers[:]:\n",
        "    logging.root.removeHandler(handler)\n",
        "```\n",
        "\n",
        "* This clears old logging handlers.\n",
        "* It's **crucial in Jupyter or Colab** environments, because logging configs **persist across cells**. Without this, re-running cells can result in **duplicate logs or no output at all**.\n",
        "\n",
        "---\n",
        "\n",
        "```python\n",
        "logging.basicConfig(\n",
        "    filename=log_file,\n",
        "    level=level,\n",
        "    format=\"%(asctime)s [%(levelname)s] %(message)s\",\n",
        "    filemode=\"a\"  # append to file; use \"w\" to overwrite on each run\n",
        ")\n",
        "```\n",
        "\n",
        "* ✅ Saves logs to a file (`agent_log.txt`)\n",
        "* ✅ Includes timestamp, level, and message\n",
        "* 🔄 `filemode=\"a\"` makes it append rather than overwrite — great for multi-step runs\n",
        "\n",
        "---\n",
        "\n",
        "## 🧪 When to Use This Setup\n",
        "\n",
        "* ✅ At the start of any notebook or script involving:\n",
        "\n",
        "  * **Agents**\n",
        "  * **Tool calls**\n",
        "  * **Retries**\n",
        "  * **Debugging**\n",
        "* ✅ Especially useful in **iterative notebooks** where you're:\n",
        "\n",
        "  * Debugging failures\n",
        "  * Building multi-step processes\n",
        "  * Logging durations, retries, or exceptions\n",
        "\n"
      ],
      "metadata": {
        "id": "Dpqv8n8ylUHu"
      }
    },
    {
      "cell_type": "code",
      "execution_count": 3,
      "metadata": {
        "id": "0KmWkpE1k774"
      },
      "outputs": [],
      "source": [
        "import logging\n",
        "\n",
        "def setup_logging(log_file=\"agent_log.txt\", level=logging.INFO):\n",
        "    import logging\n",
        "\n",
        "    for handler in logging.root.handlers[:]:\n",
        "        logging.root.removeHandler(handler)\n",
        "\n",
        "    logging.basicConfig(\n",
        "        level=level,\n",
        "        format=\"%(asctime)s [%(levelname)s] %(message)s\",\n",
        "        handlers=[\n",
        "            logging.FileHandler(log_file),\n",
        "            logging.StreamHandler()  # prints to notebook output\n",
        "        ]\n",
        "    )\n",
        "\n",
        "setup_logging()"
      ]
    },
    {
      "cell_type": "markdown",
      "source": [
        "✅ — writing **intentionally buggy code**, logging the errors, and then **debugging from the logs** is one of the *most powerful ways* to build your error-handling intuition.\n",
        "\n",
        "---\n",
        "\n",
        "### 🧪 Step-by-Step Plan\n",
        "\n",
        "We'll go through this loop:\n",
        "\n",
        "1. **Write buggy code**\n",
        "2. **Wrap it with error handling**\n",
        "3. **Log the error**\n",
        "4. **Run it, inspect `agent_log.txt`**\n",
        "5. **Fix the bug**\n",
        "6. Repeat (with a slightly more complex example)\n",
        "\n",
        "\n"
      ],
      "metadata": {
        "id": "Z-GM2TZbofSk"
      }
    },
    {
      "cell_type": "markdown",
      "source": [
        "### 🧩 Example 1: TypeError — Adding string to int\n",
        "\n",
        "\n",
        "\n"
      ],
      "metadata": {
        "id": "-bAV_yx6otbx"
      }
    },
    {
      "cell_type": "code",
      "source": [
        "def buggy_add(x, y):\n",
        "    return x + y\n",
        "\n",
        "try:\n",
        "    result = buggy_add(5, \"hello\")  # TypeError!\n",
        "except Exception as e:\n",
        "    logging.exception(\"Error in buggy_add\")  # logs traceback"
      ],
      "metadata": {
        "colab": {
          "base_uri": "https://localhost:8080/"
        },
        "id": "79cCswc7lR4O",
        "outputId": "4accc7ca-3b05-4b1d-a60b-31ee07852e67"
      },
      "execution_count": 4,
      "outputs": [
        {
          "output_type": "stream",
          "name": "stderr",
          "text": [
            "2025-09-08 18:43:23,950 [ERROR] Error in buggy_add\n",
            "Traceback (most recent call last):\n",
            "  File \"/tmp/ipython-input-945670281.py\", line 5, in <cell line: 0>\n",
            "    result = buggy_add(5, \"hello\")  # TypeError!\n",
            "             ^^^^^^^^^^^^^^^^^^^^^\n",
            "  File \"/tmp/ipython-input-945670281.py\", line 2, in buggy_add\n",
            "    return x + y\n",
            "           ~~^~~\n",
            "TypeError: unsupported operand type(s) for +: 'int' and 'str'\n"
          ]
        }
      ]
    },
    {
      "cell_type": "markdown",
      "source": [
        "### 🛠️ Now Let’s Fix It\n",
        "\n",
        "You realize that `x` and `y` should both be numbers. So, update the function like this:\n",
        "\n",
        "---\n",
        "\n",
        "### 🧠 What You Just Practiced\n",
        "\n",
        "* Raising specific exceptions (`TypeError`)\n",
        "* Catching with `except`\n",
        "* Logging with `logging.exception` (includes traceback)\n",
        "* Using the logs to *fix* the bug\n",
        "* Writing defensive code with type checks\n"
      ],
      "metadata": {
        "id": "bR9D3l3vo4ea"
      }
    },
    {
      "cell_type": "code",
      "source": [
        "def fixed_add(x, y):\n",
        "    if not all(isinstance(i, (int, float)) for i in [x, y]):\n",
        "        raise TypeError(\"Both arguments must be int or float\")\n",
        "    return x + y\n",
        "\n",
        "try:\n",
        "    result = fixed_add(5, \"hello\")\n",
        "except Exception as e:\n",
        "    logging.exception(\"Error in fixed_add\")\n"
      ],
      "metadata": {
        "colab": {
          "base_uri": "https://localhost:8080/"
        },
        "id": "Fmb8dOT2o8VE",
        "outputId": "96f06be9-502e-488f-eab6-7cef209f2c7b"
      },
      "execution_count": 5,
      "outputs": [
        {
          "output_type": "stream",
          "name": "stderr",
          "text": [
            "2025-09-08 18:44:02,043 [ERROR] Error in fixed_add\n",
            "Traceback (most recent call last):\n",
            "  File \"/tmp/ipython-input-7538178.py\", line 7, in <cell line: 0>\n",
            "    result = fixed_add(5, \"hello\")\n",
            "             ^^^^^^^^^^^^^^^^^^^^^\n",
            "  File \"/tmp/ipython-input-7538178.py\", line 3, in fixed_add\n",
            "    raise TypeError(\"Both arguments must be int or float\")\n",
            "TypeError: Both arguments must be int or float\n"
          ]
        }
      ]
    },
    {
      "cell_type": "markdown",
      "source": [
        "\n",
        "\n",
        "That verbose output is **the full traceback**, which is useful for deep debugging but can feel overwhelming or cluttered — especially in production logs or when you're scanning for known issues.\n",
        "\n",
        "Let’s break down your options depending on your goal:\n",
        "\n",
        "---\n",
        "\n",
        "## 🧼 Option 1: Show Only the Error Message (Cleaner Logging)\n",
        "\n",
        "If you want a **clean, readable log**, log only the message *without traceback*:\n",
        "\n",
        "### ✅ Use `logging.error(str(e))`\n",
        "\n",
        "```python\n",
        "try:\n",
        "    result = fixed_add(5, \"hello\")\n",
        "except Exception as e:\n",
        "    logging.error(f\"fixed_add failed: {e}\")  # just the message, no traceback\n",
        "```\n",
        "\n",
        "### Output:\n",
        "\n",
        "```\n",
        "2025-09-08 19:00:00 [ERROR] fixed_add failed: Both arguments must be int or float\n",
        "```\n",
        "\n",
        "🔍 **Much cleaner.** This is ideal when:\n",
        "\n",
        "* You already know *where* the error is.\n",
        "* You want user-friendly logs.\n",
        "* You don’t need the full traceback.\n",
        "\n",
        "---\n",
        "\n",
        "## 🧰 Option 2: Keep Full Traceback (for debugging)\n",
        "\n",
        "```python\n",
        "logging.exception(\"fixed_add failed\")  # includes full traceback\n",
        "```\n",
        "\n",
        "Best for:\n",
        "\n",
        "* Early dev/debugging\n",
        "* Unexpected or unknown errors\n",
        "* When you’re not sure *where* the error occurred\n",
        "\n",
        "---\n",
        "\n",
        "## 🧩 Option 3: Log Both (Clean + Traceback Only for Debug)\n",
        "\n",
        "You can **log both** — a clean message for regular viewing, and the traceback **only when debugging**:\n",
        "\n",
        "```python\n",
        "try:\n",
        "    result = fixed_add(5, \"hello\")\n",
        "except Exception as e:\n",
        "    logging.error(f\"fixed_add failed: {e}\")\n",
        "    logging.debug(\"Full traceback below:\", exc_info=True)\n",
        "```\n",
        "\n",
        "Then simply change your logging level to `DEBUG` if you want to see tracebacks later.\n",
        "\n",
        "---\n",
        "\n",
        "## 🧙‍♂️ Pro Tip: Use Custom Logger with Filtering\n",
        "\n",
        "For more control (like saving verbose logs to file but showing clean logs on screen), use **separate loggers or handlers** — we can cover this if you're interested later.\n",
        "\n",
        "---\n",
        "\n",
        "### ✅ Recommendation for Now\n",
        "\n",
        "Since you're learning and building agents:\n",
        "\n",
        "* Use `logging.exception(...)` when **developing/debugging**\n",
        "* Use `logging.error(...)` with a clear message when **in production / user-facing logs**\n",
        "* Combine with `DEBUG` logs if you want selective verbosity\n",
        "\n"
      ],
      "metadata": {
        "id": "U5HW4n9tpwre"
      }
    },
    {
      "cell_type": "markdown",
      "source": [
        "\n",
        "\n",
        "### ✅ `logging.exception(...)` → **Development & Debugging Phase**\n",
        "\n",
        "🧪 Use this when:\n",
        "\n",
        "* You are **exploring what could go wrong**\n",
        "* You're writing or testing new code\n",
        "* You need the **full traceback** to see *where* and *why* something failed\n",
        "* You're catching **unexpected** or **generic** errors (`except Exception`)\n",
        "\n",
        "📋 It logs:\n",
        "\n",
        "* The message you provide\n",
        "* The **entire traceback** (file, line, stack context)\n",
        "\n",
        "🧠 Helps you **investigate** and **learn** from failures\n",
        "\n",
        "---\n",
        "\n",
        "### ✅ `logging.error(...)` → **Production & Runtime Phase**\n",
        "\n",
        "🚀 Use this when:\n",
        "\n",
        "* You are in a **stable, running environment**\n",
        "* You expect a specific error to occur (e.g. `ValueError`, `TimeoutError`)\n",
        "* You want to **log it cleanly** for future review or user support\n",
        "* You want **simple, readable logs** (especially for external systems or dashboards)\n",
        "\n",
        "📋 It logs:\n",
        "\n",
        "* Only the message (unless you explicitly include traceback via `exc_info=True`)\n",
        "* No noisy stack trace unless needed\n",
        "\n",
        "🧠 Helps you **track issues** without overwhelming your logs\n",
        "\n",
        "---\n",
        "\n",
        "### 🧠 Mental Model\n",
        "\n",
        "| Phase          | Use                 | Goal                            |\n",
        "| -------------- | ------------------- | ------------------------------- |\n",
        "| 🧪 Development | `logging.exception` | Debug deeply, learn what breaks |\n",
        "| 🚀 Production  | `logging.error`     | Report known issues cleanly     |\n"
      ],
      "metadata": {
        "id": "lPS4SuvRqPey"
      }
    },
    {
      "cell_type": "markdown",
      "source": [
        "\n",
        "\n",
        "### 🧪 Example: Handling File I/O Errors with Logging\n",
        "\n",
        "This one simulates a common **agent scenario**: reading from a file that might not exist, and handling it gracefully.\n",
        "\n",
        "\n",
        "### ✅ What You’ll Learn from This Example\n",
        "\n",
        "* **How to handle expected errors** (`FileNotFoundError`, `PermissionError`)\n",
        "* How to fall back safely (`return None`)\n",
        "* How to log **specific vs unexpected** errors\n",
        "* Why `logging.exception()` is useful for uncaught edge cases\n",
        "\n",
        "\n"
      ],
      "metadata": {
        "id": "Kau-hMHeqa_C"
      }
    },
    {
      "cell_type": "code",
      "source": [
        "import os\n",
        "\n",
        "def read_file(path):\n",
        "    try:\n",
        "        with open(path, \"r\") as f:\n",
        "            return f.read()\n",
        "    except FileNotFoundError:\n",
        "        logging.error(f\"File not found: {path}\")\n",
        "        return None\n",
        "    except PermissionError:\n",
        "        logging.error(f\"No permission to read: {path}\")\n",
        "        return None\n",
        "    except Exception as e:\n",
        "        logging.exception(\"Unexpected error while reading file\")\n",
        "        return None\n",
        "\n",
        "# Simulate a bad file path\n",
        "bad_path = \"non_existent_file.txt\"\n",
        "contents = read_file(bad_path)\n",
        "\n",
        "if contents is None:\n",
        "    print(\"❌ File read failed.\")\n",
        "else:\n",
        "    print(\"✅ File read succeeded.\")\n"
      ],
      "metadata": {
        "colab": {
          "base_uri": "https://localhost:8080/"
        },
        "id": "PdSKcZVspGjc",
        "outputId": "852db201-5436-4154-dbb9-2a8eb9ae92de"
      },
      "execution_count": 6,
      "outputs": [
        {
          "output_type": "stream",
          "name": "stderr",
          "text": [
            "2025-09-08 18:50:44,191 [ERROR] File not found: non_existent_file.txt\n"
          ]
        },
        {
          "output_type": "stream",
          "name": "stdout",
          "text": [
            "❌ File read failed.\n"
          ]
        }
      ]
    },
    {
      "cell_type": "markdown",
      "source": [
        "\n",
        "\n",
        "### 📦 Example: Parsing a JSON Response from a Tool/API\n",
        "\n",
        "Many AI agents rely on tools that return JSON. Sometimes that JSON is malformed, missing keys, or has the wrong structure. Let’s simulate that and handle the errors cleanly.\n",
        "\n",
        "### 🔍 What to Watch\n",
        "\n",
        "* Logging will show up in the **notebook output** (and also go to the file).\n",
        "* You'll see how different types of errors are handled differently:\n",
        "\n",
        "  * `json.JSONDecodeError` logs a traceback using `logging.exception(...)`\n",
        "  * `KeyError` logs a simple message using `logging.error(...)`\n",
        "\n",
        "\n",
        "\n"
      ],
      "metadata": {
        "id": "ivsNoHgEru2k"
      }
    },
    {
      "cell_type": "code",
      "source": [
        "import json\n",
        "\n",
        "def parse_tool_response(response_text):\n",
        "    try:\n",
        "        data = json.loads(response_text)\n",
        "        logging.info(\"Successfully parsed JSON.\")\n",
        "\n",
        "        if \"answer\" not in data:\n",
        "            raise KeyError(\"Missing 'answer' field in response\")\n",
        "\n",
        "        return data[\"answer\"]\n",
        "\n",
        "    except json.JSONDecodeError as e:\n",
        "        logging.exception(\"Failed to decode JSON response\")\n",
        "        return None\n",
        "\n",
        "    except KeyError as e:\n",
        "        logging.error(f\"Expected key not found: {e}\")\n",
        "        return None\n"
      ],
      "metadata": {
        "id": "HhWlU5u4q_Y9"
      },
      "execution_count": 8,
      "outputs": []
    },
    {
      "cell_type": "code",
      "source": [
        "# Valid input\n",
        "print(\"Result 1:\", parse_tool_response('{\"answer\": 42}'))"
      ],
      "metadata": {
        "colab": {
          "base_uri": "https://localhost:8080/"
        },
        "id": "aOmKZPkbrJSB",
        "outputId": "24df45c8-5618-4d89-ad40-40d9b8010de9"
      },
      "execution_count": 10,
      "outputs": [
        {
          "output_type": "stream",
          "name": "stderr",
          "text": [
            "2025-09-08 18:56:25,540 [INFO] Successfully parsed JSON.\n"
          ]
        },
        {
          "output_type": "stream",
          "name": "stdout",
          "text": [
            "Result 1: 42\n"
          ]
        }
      ]
    },
    {
      "cell_type": "code",
      "source": [
        "# Invalid JSON\n",
        "print(\"Result 2:\", parse_tool_response('{bad json!'))"
      ],
      "metadata": {
        "colab": {
          "base_uri": "https://localhost:8080/"
        },
        "id": "YEhrs-s2r81K",
        "outputId": "bb9dd202-d0e9-4b14-dea4-426b2dc5892f"
      },
      "execution_count": 11,
      "outputs": [
        {
          "output_type": "stream",
          "name": "stderr",
          "text": [
            "2025-09-08 18:56:36,205 [ERROR] Failed to decode JSON response\n",
            "Traceback (most recent call last):\n",
            "  File \"/tmp/ipython-input-3541659297.py\", line 5, in parse_tool_response\n",
            "    data = json.loads(response_text)\n",
            "           ^^^^^^^^^^^^^^^^^^^^^^^^^\n",
            "  File \"/usr/lib/python3.12/json/__init__.py\", line 346, in loads\n",
            "    return _default_decoder.decode(s)\n",
            "           ^^^^^^^^^^^^^^^^^^^^^^^^^^\n",
            "  File \"/usr/lib/python3.12/json/decoder.py\", line 338, in decode\n",
            "    obj, end = self.raw_decode(s, idx=_w(s, 0).end())\n",
            "               ^^^^^^^^^^^^^^^^^^^^^^^^^^^^^^^^^^^^^^\n",
            "  File \"/usr/lib/python3.12/json/decoder.py\", line 354, in raw_decode\n",
            "    obj, end = self.scan_once(s, idx)\n",
            "               ^^^^^^^^^^^^^^^^^^^^^^\n",
            "json.decoder.JSONDecodeError: Expecting property name enclosed in double quotes: line 1 column 2 (char 1)\n"
          ]
        },
        {
          "output_type": "stream",
          "name": "stdout",
          "text": [
            "Result 2: None\n"
          ]
        }
      ]
    },
    {
      "cell_type": "code",
      "source": [
        "# Valid JSON but missing key\n",
        "print(\"Result 3:\", parse_tool_response('{\"result\": \"ok\"}'))"
      ],
      "metadata": {
        "colab": {
          "base_uri": "https://localhost:8080/"
        },
        "id": "YhUX06E0r8pt",
        "outputId": "eb59a7ed-3de0-4f6b-aead-5fe3be9fb14d"
      },
      "execution_count": 12,
      "outputs": [
        {
          "output_type": "stream",
          "name": "stderr",
          "text": [
            "2025-09-08 18:56:38,883 [INFO] Successfully parsed JSON.\n",
            "2025-09-08 18:56:38,885 [ERROR] Expected key not found: \"Missing 'answer' field in response\"\n"
          ]
        },
        {
          "output_type": "stream",
          "name": "stdout",
          "text": [
            "Result 3: None\n"
          ]
        }
      ]
    },
    {
      "cell_type": "markdown",
      "source": [
        "\n",
        "### 🧩 What Happened\n",
        "\n",
        "```python\n",
        "print(\"Result 3:\", parse_tool_response('{\"result\": \"ok\"}'))\n",
        "```\n",
        "\n",
        "You're passing **valid JSON**, but it doesn't contain the key your agent expects (e.g., `\"answer\"`). So:\n",
        "\n",
        "* ✅ `json.loads()` succeeds → `logging.info(\"Successfully parsed JSON.\")`\n",
        "* ❌ But the `\"answer\"` field is **missing**\n",
        "* → Your code catches that, raises/logs a clear error:\n",
        "\n",
        "```python\n",
        "logging.error('Expected key not found: \"Missing \\'answer\\' field in response\"')\n",
        "```\n",
        "\n",
        "* 👇 The function returns `None`, indicating failure — without crashing the agent.\n",
        "\n",
        "---\n",
        "\n",
        "### 🧠 Why This Is Powerful (especially in agents):\n",
        "\n",
        "| Benefit                  | Why it Matters                                                               |\n",
        "| ------------------------ | ---------------------------------------------------------------------------- |\n",
        "| ✅ Clear timestamps       | Shows **when** the failure happened — helps identify performance bottlenecks |\n",
        "| ✅ Separation of concerns | JSON parsing vs key validation errors are distinct — easier to isolate bugs  |\n",
        "| ✅ Graceful failure       | Instead of crashing, the agent logs the problem and moves on                 |\n",
        "| ✅ Traceability           | When reviewing logs, you know exactly **which step failed and why**          |\n",
        "| ✅ Maintainability        | Future you (or a teammate) will **thank you** for this logging clarity       |\n",
        "\n",
        "---\n",
        "\n",
        "### 🛠️ You’re Practicing This Principle:\n",
        "\n",
        "> **\"Fail fast, fail clearly, fail gracefully.\"**\n",
        "\n",
        "That’s the **gold standard** for agent step tooling.\n",
        "\n"
      ],
      "metadata": {
        "id": "_OMCnTrgs3Ye"
      }
    },
    {
      "cell_type": "markdown",
      "source": [
        "## 🧪 Example: Fetching from a fake tool (some responses succeed, some fail)"
      ],
      "metadata": {
        "id": "qlqGP0pcsxNP"
      }
    },
    {
      "cell_type": "code",
      "source": [
        "# Fixed responses: last one will fail\n",
        "responses = [\n",
        "    '{\"answer\": 42}',\n",
        "    '{\"answer\": 13}',\n",
        "    '{\"answer\": 7}',\n",
        "    '{\"answer\": 99}',\n",
        "    '{\"result\": \"ok\"}'  # <-- This one is missing the 'answer' key\n",
        "]\n",
        "\n",
        "# Core logic\n",
        "def parse_tool_response(response_text):\n",
        "    try:\n",
        "        data = json.loads(response_text)\n",
        "        logging.info(\"Successfully parsed JSON.\")\n",
        "\n",
        "        if \"answer\" not in data:\n",
        "            raise ValueError(\"Missing 'answer' field in response\")\n",
        "\n",
        "        answer = data[\"answer\"]\n",
        "\n",
        "        if not isinstance(answer, int):\n",
        "            raise TypeError(\"Answer must be an integer\")\n",
        "\n",
        "        return answer\n",
        "\n",
        "    except Exception as e:\n",
        "        logging.error(\"Failed to parse response: %s\", e, exc_info=True)\n",
        "        return None\n",
        "\n",
        "# Run each step\n",
        "for i, resp in enumerate(responses, 1):\n",
        "    print(f\"\\n▶️ Run {i}\")\n",
        "    result = parse_tool_response(resp)\n",
        "    print(f\"Result: {result}\")\n"
      ],
      "metadata": {
        "colab": {
          "base_uri": "https://localhost:8080/"
        },
        "id": "ellltkiwrk4O",
        "outputId": "f6b4f503-9fec-4f5b-9966-8a6f201636b9"
      },
      "execution_count": 16,
      "outputs": [
        {
          "output_type": "stream",
          "name": "stderr",
          "text": [
            "2025-09-08 19:07:00,582 [INFO] Successfully parsed JSON.\n",
            "2025-09-08 19:07:00,584 [INFO] Successfully parsed JSON.\n",
            "2025-09-08 19:07:00,586 [INFO] Successfully parsed JSON.\n",
            "2025-09-08 19:07:00,587 [INFO] Successfully parsed JSON.\n",
            "2025-09-08 19:07:00,588 [INFO] Successfully parsed JSON.\n",
            "2025-09-08 19:07:00,589 [ERROR] Failed to parse response: Missing 'answer' field in response\n",
            "Traceback (most recent call last):\n",
            "  File \"/tmp/ipython-input-1413892704.py\", line 17, in parse_tool_response\n",
            "    raise ValueError(\"Missing 'answer' field in response\")\n",
            "ValueError: Missing 'answer' field in response\n"
          ]
        },
        {
          "output_type": "stream",
          "name": "stdout",
          "text": [
            "\n",
            "▶️ Run 1\n",
            "Result: 42\n",
            "\n",
            "▶️ Run 2\n",
            "Result: 13\n",
            "\n",
            "▶️ Run 3\n",
            "Result: 7\n",
            "\n",
            "▶️ Run 4\n",
            "Result: 99\n",
            "\n",
            "▶️ Run 5\n",
            "Result: None\n"
          ]
        }
      ]
    },
    {
      "cell_type": "markdown",
      "source": [
        "\n",
        "\n",
        "The **core purpose of proper error handling** is *not just to catch problems*, but to allow your program or agent to:\n",
        "\n",
        "* **Continue running**\n",
        "* **Gracefully handle known issues**\n",
        "* **Log or report what went wrong**\n",
        "* **Recover or fallback if possible**\n",
        "\n",
        "Let’s do an example where some agent tool responses succeed and some fail — but the **agent keeps running**, logging each step, and collecting results where possible.\n",
        "\n",
        "---\n",
        "\n",
        "### ✅ Example: Mixed Pass/Fail with Logging, Error Handling, and Graceful Completion\n",
        "\n",
        "\n",
        "### 🔍 What to Notice\n",
        "\n",
        "* The agent processes all 5 responses.\n",
        "* Failures are logged with tracebacks for debugging.\n",
        "* The process **doesn't crash**, even with invalid JSON or missing fields.\n",
        "* We return `None` for failed steps, but continue collecting valid outputs.\n",
        "* Final result shows all values, successful and failed.\n",
        "\n",
        "---\n",
        "\n",
        "### 🧠 Why This Is Useful for Agents\n",
        "\n",
        "* This structure is **very close to how real agents operate**: run a bunch of tool calls → handle failures → gather partial results → keep going.\n",
        "* **Logging and structured handling** means your agent doesn't get derailed by one bad response.\n",
        "* You can plug in **retries**, **fallbacks**, or **summarize the failures** for the user in the end.\n",
        "\n"
      ],
      "metadata": {
        "id": "SJCrs6_8u2ge"
      }
    },
    {
      "cell_type": "code",
      "source": [
        "# Simulated responses: a mix of valid and invalid JSON or structures\n",
        "responses = [\n",
        "    '{\"answer\": 42}',                      # ✅ valid\n",
        "    '{\"answer\": \"not a number\"}',         # ❌ wrong type\n",
        "    '{\"result\": \"ok\"}',                   # ❌ missing key\n",
        "    'not json at all',                    # ❌ invalid JSON\n",
        "    '{\"answer\": 13}'                      # ✅ valid\n",
        "]\n",
        "\n",
        "# Function to parse and validate the response\n",
        "def parse_tool_response(response_text):\n",
        "    try:\n",
        "        data = json.loads(response_text)\n",
        "        logging.info(\"✅ Parsed JSON successfully.\")\n",
        "\n",
        "        if \"answer\" not in data:\n",
        "            raise ValueError(\"Missing 'answer' field in response.\")\n",
        "\n",
        "        answer = data[\"answer\"]\n",
        "        if not isinstance(answer, int):\n",
        "            raise TypeError(\"Answer must be an integer.\")\n",
        "\n",
        "        return answer\n",
        "\n",
        "    except Exception as e:\n",
        "        logging.error(\"❌ Failed to process response: %s\", e, exc_info=True)\n",
        "        return None\n",
        "\n",
        "# Process all responses and collect results\n",
        "results = []\n",
        "\n",
        "for i, resp in enumerate(responses, 1):\n",
        "    print(f\"\\n▶️ Run {i}\")\n",
        "    result = parse_tool_response(resp)\n",
        "    print(f\"Result: {result}\")\n",
        "    results.append(result)\n",
        "\n",
        "# Final output\n",
        "print(\"\\n✅ All runs completed.\")\n",
        "print(\"Collected results:\", results)\n"
      ],
      "metadata": {
        "colab": {
          "base_uri": "https://localhost:8080/"
        },
        "id": "YTUAOWucuf81",
        "outputId": "6193c00d-8e8c-4657-d415-1f3f5314618f"
      },
      "execution_count": 17,
      "outputs": [
        {
          "output_type": "stream",
          "name": "stderr",
          "text": [
            "2025-09-08 19:09:42,633 [INFO] ✅ Parsed JSON successfully.\n",
            "2025-09-08 19:09:42,634 [INFO] ✅ Parsed JSON successfully.\n",
            "2025-09-08 19:09:42,638 [ERROR] ❌ Failed to process response: Answer must be an integer.\n",
            "Traceback (most recent call last):\n",
            "  File \"/tmp/ipython-input-2823341378.py\", line 21, in parse_tool_response\n",
            "    raise TypeError(\"Answer must be an integer.\")\n",
            "TypeError: Answer must be an integer.\n",
            "2025-09-08 19:09:42,640 [INFO] ✅ Parsed JSON successfully.\n",
            "2025-09-08 19:09:42,641 [ERROR] ❌ Failed to process response: Missing 'answer' field in response.\n",
            "Traceback (most recent call last):\n",
            "  File \"/tmp/ipython-input-2823341378.py\", line 17, in parse_tool_response\n",
            "    raise ValueError(\"Missing 'answer' field in response.\")\n",
            "ValueError: Missing 'answer' field in response.\n",
            "2025-09-08 19:09:42,644 [ERROR] ❌ Failed to process response: Expecting value: line 1 column 1 (char 0)\n",
            "Traceback (most recent call last):\n",
            "  File \"/tmp/ipython-input-2823341378.py\", line 13, in parse_tool_response\n",
            "    data = json.loads(response_text)\n",
            "           ^^^^^^^^^^^^^^^^^^^^^^^^^\n",
            "  File \"/usr/lib/python3.12/json/__init__.py\", line 346, in loads\n",
            "    return _default_decoder.decode(s)\n",
            "           ^^^^^^^^^^^^^^^^^^^^^^^^^^\n",
            "  File \"/usr/lib/python3.12/json/decoder.py\", line 338, in decode\n",
            "    obj, end = self.raw_decode(s, idx=_w(s, 0).end())\n",
            "               ^^^^^^^^^^^^^^^^^^^^^^^^^^^^^^^^^^^^^^\n",
            "  File \"/usr/lib/python3.12/json/decoder.py\", line 356, in raw_decode\n",
            "    raise JSONDecodeError(\"Expecting value\", s, err.value) from None\n",
            "json.decoder.JSONDecodeError: Expecting value: line 1 column 1 (char 0)\n",
            "2025-09-08 19:09:42,645 [INFO] ✅ Parsed JSON successfully.\n"
          ]
        },
        {
          "output_type": "stream",
          "name": "stdout",
          "text": [
            "\n",
            "▶️ Run 1\n",
            "Result: 42\n",
            "\n",
            "▶️ Run 2\n",
            "Result: None\n",
            "\n",
            "▶️ Run 3\n",
            "Result: None\n",
            "\n",
            "▶️ Run 4\n",
            "Result: None\n",
            "\n",
            "▶️ Run 5\n",
            "Result: 13\n",
            "\n",
            "✅ All runs completed.\n",
            "Collected results: [42, None, None, None, 13]\n"
          ]
        }
      ]
    },
    {
      "cell_type": "markdown",
      "source": [
        "\n",
        "## 🧱 Step 1: Add the Wrapper\n",
        "\n",
        "This function wraps your tool call and returns a **standardized result object** like an agent would expect:\n",
        "\n",
        "```python\n",
        "def run_step(step_fn):\n",
        "    try:\n",
        "        return {\"ok\": True, \"value\": step_fn()}\n",
        "    except Exception as e:\n",
        "        logging.error(\"Step failed: %s\", e, exc_info=True)\n",
        "        return {\"ok\": False, \"error\": str(e)}\n",
        "```\n",
        "\n",
        "\n",
        "## 📌 What You’re Learning\n",
        "\n",
        "| Feature             | Benefit                                   |\n",
        "| ------------------- | ----------------------------------------- |\n",
        "| `run_step(...)`     | Centralizes error handling                |\n",
        "| `lambda:`           | Delays execution to wrap function call    |\n",
        "| Structured result   | Easy for agent/controller to reason about |\n",
        "| Logs with traceback | You know exactly where it failed          |\n",
        "\n"
      ],
      "metadata": {
        "id": "7L3tQBmOwgRs"
      }
    },
    {
      "cell_type": "code",
      "source": [
        "# Simulated tool responses\n",
        "responses = [\n",
        "    '{\"answer\": 42}',                      # ✅ valid\n",
        "    '{\"answer\": \"not a number\"}',         # ❌ wrong type\n",
        "    '{\"result\": \"ok\"}',                   # ❌ missing key\n",
        "    'not json at all',                    # ❌ invalid JSON\n",
        "    '{\"answer\": 13}'                      # ✅ valid\n",
        "]\n",
        "\n",
        "# Structured agent-like wrapper\n",
        "def run_step(step_fn):\n",
        "    try:\n",
        "        return {\"ok\": True, \"value\": step_fn()}\n",
        "    except Exception as e:\n",
        "        logging.error(\"Step failed: %s\", e, exc_info=True)\n",
        "        return {\"ok\": False, \"error\": str(e)}\n",
        "\n",
        "# Parser with error handling + logging\n",
        "def parse_tool_response(response_text):\n",
        "    data = json.loads(response_text)\n",
        "    logging.info(\"✅ Parsed JSON successfully.\")\n",
        "\n",
        "    if \"answer\" not in data:\n",
        "        raise ValueError(\"Missing 'answer' field in response.\")\n",
        "\n",
        "    answer = data[\"answer\"]\n",
        "    if not isinstance(answer, int):\n",
        "        raise TypeError(\"Answer must be an integer.\")\n",
        "\n",
        "    return answer\n",
        "\n",
        "# Run all responses\n",
        "results = []\n",
        "\n",
        "for i, resp in enumerate(responses, 1):\n",
        "    print(f\"\\n▶️ Run {i}\")\n",
        "    result = run_step(lambda: parse_tool_response(resp))\n",
        "    print(\"Result:\", result)\n",
        "    results.append(result)\n",
        "\n",
        "# Final output\n",
        "print(\"\\n✅ All runs completed.\")\n",
        "print(\"Collected results:\", results)\n"
      ],
      "metadata": {
        "colab": {
          "base_uri": "https://localhost:8080/"
        },
        "id": "zefiBVuMuf42",
        "outputId": "ddb1357c-45f6-4c1d-8910-a7a86a90494f"
      },
      "execution_count": 19,
      "outputs": [
        {
          "output_type": "stream",
          "name": "stderr",
          "text": [
            "2025-09-08 19:17:12,289 [INFO] ✅ Parsed JSON successfully.\n",
            "2025-09-08 19:17:12,291 [INFO] ✅ Parsed JSON successfully.\n",
            "2025-09-08 19:17:12,292 [ERROR] Step failed: Answer must be an integer.\n",
            "Traceback (most recent call last):\n",
            "  File \"/tmp/ipython-input-908012165.py\", line 13, in run_step\n",
            "    return {\"ok\": True, \"value\": step_fn()}\n",
            "                                 ^^^^^^^^^\n",
            "  File \"/tmp/ipython-input-908012165.py\", line 37, in <lambda>\n",
            "    result = run_step(lambda: parse_tool_response(resp))\n",
            "                              ^^^^^^^^^^^^^^^^^^^^^^^^^\n",
            "  File \"/tmp/ipython-input-908012165.py\", line 28, in parse_tool_response\n",
            "    raise TypeError(\"Answer must be an integer.\")\n",
            "TypeError: Answer must be an integer.\n",
            "2025-09-08 19:17:12,293 [INFO] ✅ Parsed JSON successfully.\n",
            "2025-09-08 19:17:12,294 [ERROR] Step failed: Missing 'answer' field in response.\n",
            "Traceback (most recent call last):\n",
            "  File \"/tmp/ipython-input-908012165.py\", line 13, in run_step\n",
            "    return {\"ok\": True, \"value\": step_fn()}\n",
            "                                 ^^^^^^^^^\n",
            "  File \"/tmp/ipython-input-908012165.py\", line 37, in <lambda>\n",
            "    result = run_step(lambda: parse_tool_response(resp))\n",
            "                              ^^^^^^^^^^^^^^^^^^^^^^^^^\n",
            "  File \"/tmp/ipython-input-908012165.py\", line 24, in parse_tool_response\n",
            "    raise ValueError(\"Missing 'answer' field in response.\")\n",
            "ValueError: Missing 'answer' field in response.\n",
            "2025-09-08 19:17:12,296 [ERROR] Step failed: Expecting value: line 1 column 1 (char 0)\n",
            "Traceback (most recent call last):\n",
            "  File \"/tmp/ipython-input-908012165.py\", line 13, in run_step\n",
            "    return {\"ok\": True, \"value\": step_fn()}\n",
            "                                 ^^^^^^^^^\n",
            "  File \"/tmp/ipython-input-908012165.py\", line 37, in <lambda>\n",
            "    result = run_step(lambda: parse_tool_response(resp))\n",
            "                              ^^^^^^^^^^^^^^^^^^^^^^^^^\n",
            "  File \"/tmp/ipython-input-908012165.py\", line 20, in parse_tool_response\n",
            "    data = json.loads(response_text)\n",
            "           ^^^^^^^^^^^^^^^^^^^^^^^^^\n",
            "  File \"/usr/lib/python3.12/json/__init__.py\", line 346, in loads\n",
            "    return _default_decoder.decode(s)\n",
            "           ^^^^^^^^^^^^^^^^^^^^^^^^^^\n",
            "  File \"/usr/lib/python3.12/json/decoder.py\", line 338, in decode\n",
            "    obj, end = self.raw_decode(s, idx=_w(s, 0).end())\n",
            "               ^^^^^^^^^^^^^^^^^^^^^^^^^^^^^^^^^^^^^^\n",
            "  File \"/usr/lib/python3.12/json/decoder.py\", line 356, in raw_decode\n",
            "    raise JSONDecodeError(\"Expecting value\", s, err.value) from None\n",
            "json.decoder.JSONDecodeError: Expecting value: line 1 column 1 (char 0)\n",
            "2025-09-08 19:17:12,299 [INFO] ✅ Parsed JSON successfully.\n"
          ]
        },
        {
          "output_type": "stream",
          "name": "stdout",
          "text": [
            "\n",
            "▶️ Run 1\n",
            "Result: {'ok': True, 'value': 42}\n",
            "\n",
            "▶️ Run 2\n",
            "Result: {'ok': False, 'error': 'Answer must be an integer.'}\n",
            "\n",
            "▶️ Run 3\n",
            "Result: {'ok': False, 'error': \"Missing 'answer' field in response.\"}\n",
            "\n",
            "▶️ Run 4\n",
            "Result: {'ok': False, 'error': 'Expecting value: line 1 column 1 (char 0)'}\n",
            "\n",
            "▶️ Run 5\n",
            "Result: {'ok': True, 'value': 13}\n",
            "\n",
            "✅ All runs completed.\n",
            "Collected results: [{'ok': True, 'value': 42}, {'ok': False, 'error': 'Answer must be an integer.'}, {'ok': False, 'error': \"Missing 'answer' field in response.\"}, {'ok': False, 'error': 'Expecting value: line 1 column 1 (char 0)'}, {'ok': True, 'value': 13}]\n"
          ]
        }
      ]
    },
    {
      "cell_type": "markdown",
      "source": [
        "\n",
        "\n",
        "## ✅ Next Concepts to Learn (Post-Error Handling & Logging)\n",
        "\n",
        "### 1. **Retries with Backoff**\n",
        "\n",
        "* **Why?** Many agent tools fail due to *transient errors* (timeouts, flaky APIs).\n",
        "* Learn how to:\n",
        "\n",
        "  * Retry only certain exceptions\n",
        "  * Use exponential backoff (`2^n` delays)\n",
        "  * Cap retries to avoid infinite loops\n",
        "* 🔁 Pairs perfectly with error handling and structured return values.\n",
        "\n",
        "> **Try next:** Wrap one of your failing responses in a retry mechanism.\n",
        "\n",
        "---\n",
        "\n",
        "### 2. **Structured Error Returns (`{ok, error, retryable}`)**\n",
        "\n",
        "* **Why?** So the **agent controller** (or outer logic) can make intelligent choices:\n",
        "\n",
        "  * Retry if it’s a timeout\n",
        "  * Skip if it’s a user mistake\n",
        "  * Fallback if something is missing\n",
        "\n",
        "> **Try next:** Modify your last example to return structured results instead of `None`.\n",
        "\n",
        "---\n",
        "\n",
        "### 3. **Top-Level Agent Step Wrappers**\n",
        "\n",
        "* Build a reusable function like:\n",
        "\n",
        "```python\n",
        "def run_step(step_fn):\n",
        "    ...\n",
        "    return {\"ok\": True, \"value\": ...}\n",
        "```\n",
        "\n",
        "* This **standardizes** error behavior across all tools — so your agent only needs to reason about a **single format**.\n",
        "\n",
        "> You’ve already explored this, but now’s the time to **implement and reuse it** in your own tool calls.\n",
        "\n",
        "---\n",
        "\n",
        "### 4. **Input Validation Before Expensive Work**\n",
        "\n",
        "* Before calling tools or APIs, check:\n",
        "\n",
        "  * Type? ✅\n",
        "  * Empty string? ❌\n",
        "  * Reasonable range? ✅\n",
        "\n",
        "> Keeps bugs *upstream* and avoids confusing downstream errors.\n",
        "\n",
        "---\n",
        "\n",
        "### 5. **Testing Agent Code**\n",
        "\n",
        "* Use `pytest` to:\n",
        "\n",
        "  * Ensure invalid input throws expected errors\n",
        "  * Validate that retry wrappers retry on transient errors\n",
        "  * Confirm logs are generated properly (advanced)\n",
        "\n",
        "> Helps keep your agent components solid as they grow.\n",
        "\n",
        "---\n",
        "\n",
        "### 6. **Logging to Separate Files / Levels**\n",
        "\n",
        "* Separate logs by:\n",
        "\n",
        "  * `agent_steps.log`\n",
        "  * `tool_errors.log`\n",
        "* Adjust levels: `DEBUG`, `INFO`, `WARNING`, `ERROR`\n",
        "\n",
        "> Makes logs easier to sift through in production.\n",
        "\n",
        "---\n",
        "\n",
        "### 7. **Agent Recovery Patterns**\n",
        "\n",
        "* Build flows where the agent:\n",
        "\n",
        "  * Tries Tool A\n",
        "  * On failure, logs & tries Tool B\n",
        "  * On complete failure, summarizes error for user\n",
        "\n",
        "> This is a **hallmark of resilient agents** — graceful degradation.\n",
        "\n",
        "---\n",
        "\n",
        "### Optional (Advanced):\n",
        "\n",
        "* **Async / concurrency patterns** (e.g., `asyncio.gather`)\n",
        "* **Observability**: collecting metrics from logs\n",
        "* **Contextual logging** (add step ID, user, etc.)\n",
        "\n",
        "---\n",
        "\n",
        "## 🧭 Want a Learning Roadmap?\n",
        "\n",
        "Here’s a simplified sequence:\n",
        "\n",
        "| Stage       | Focus Area                                                 |\n",
        "| ----------- | ---------------------------------------------------------- |\n",
        "| ✅ Now       | Error handling, logging basics                             |\n",
        "| 🔁 Next     | Retry logic, structured returns                            |\n",
        "| 🧠 After    | Step wrappers, validation                                  |\n",
        "| 🧪 Advanced | Testing, recovery, async                                   |\n",
        "| 🛠️ Tooling | Custom error classes, logging configs, agent control loops |\n",
        "\n"
      ],
      "metadata": {
        "id": "6NI7oEkPv5Mo"
      }
    },
    {
      "cell_type": "markdown",
      "source": [
        "This is one of the key mindset shifts as you move from **prototyping** to **production-grade development**.\n",
        "\n",
        "---\n",
        "\n",
        "## ✅ Yes, `logging` can (and often *should*) be used **instead of** `print`.\n",
        "\n",
        "But the choice depends on **context**:\n",
        "\n",
        "---\n",
        "\n",
        "### 🔁 `print()` is:\n",
        "\n",
        "* **Quick & dirty**\n",
        "* Meant for **temporary debugging or local exploration**\n",
        "* **Always writes to stdout** — you can't control where it goes\n",
        "* Has **no severity level** (you can't tell what's a warning vs info vs error)\n",
        "* Gets messy when working in larger codebases, threads, or background jobs\n",
        "\n",
        "---\n",
        "\n",
        "### 🛠️ `logging` is:\n",
        "\n",
        "* **Built for real debugging, observability, and tracing**\n",
        "* Lets you assign **levels**: `DEBUG`, `INFO`, `WARNING`, `ERROR`, `CRITICAL`\n",
        "* Can write to **multiple places**: file, stdout, remote server, etc.\n",
        "* You can **turn it on/off**, **filter**, and **format** it consistently\n",
        "* Works great with **concurrent code**, **agent tools**, **background workers**, etc.\n",
        "* Provides full **timestamps**, **tracebacks**, and **error categorization**\n",
        "\n",
        "---\n",
        "\n",
        "### ✅ In Agent Development:\n",
        "\n",
        "Use `logging` to:\n",
        "\n",
        "* Track what tools your agent is using\n",
        "* Measure how long steps take\n",
        "* Record when/why something failed\n",
        "* Debug retry behavior, concurrency bugs, or timeouts\n",
        "* Build traceable, production-safe systems\n",
        "\n",
        "---\n",
        "\n",
        "### 📌 Quick Example:\n",
        "\n",
        "#### Using `print`:\n",
        "\n",
        "```python\n",
        "print(\"Calling API\")\n",
        "response = api_call()\n",
        "print(\"Response:\", response)\n",
        "```\n",
        "\n",
        "#### Using `logging` (preferred):\n",
        "\n",
        "```python\n",
        "logging.info(\"Calling API\")\n",
        "response = api_call()\n",
        "logging.debug(f\"Raw API response: {response}\")\n",
        "```\n",
        "\n",
        "---\n",
        "\n",
        "### 🧪 Bonus Tip:\n",
        "\n",
        "You can even set **different levels** depending on the audience:\n",
        "\n",
        "* `DEBUG`: for you, the developer\n",
        "* `INFO`: for general operation logging\n",
        "* `WARNING/ERROR`: for things that went wrong but didn’t crash\n",
        "* `CRITICAL`: for actual crashes or halts\n",
        "\n",
        "---\n",
        "\n",
        "Would you like a side-by-side comparison in a Colab-style example so you can see how `print` vs `logging` behaves?\n"
      ],
      "metadata": {
        "id": "vYX4i0m5rkKA"
      }
    },
    {
      "cell_type": "markdown",
      "source": [
        "## View Error Logs"
      ],
      "metadata": {
        "id": "8gSWJ8akvZMU"
      }
    },
    {
      "cell_type": "code",
      "source": [
        "# 📄 To View the Logs Afterward:\n",
        "def show_logs():\n",
        "    with open(\"agent_log.txt\") as f:\n",
        "        print(f.read())\n",
        "\n",
        "show_logs()"
      ],
      "metadata": {
        "colab": {
          "base_uri": "https://localhost:8080/"
        },
        "id": "oFskRCqxvUNB",
        "outputId": "e9acffe0-41d4-4a63-cbfd-7c43c6649db8"
      },
      "execution_count": 18,
      "outputs": [
        {
          "output_type": "stream",
          "name": "stdout",
          "text": [
            "2025-09-08 18:43:23,950 [ERROR] Error in buggy_add\n",
            "Traceback (most recent call last):\n",
            "  File \"/tmp/ipython-input-945670281.py\", line 5, in <cell line: 0>\n",
            "    result = buggy_add(5, \"hello\")  # TypeError!\n",
            "             ^^^^^^^^^^^^^^^^^^^^^\n",
            "  File \"/tmp/ipython-input-945670281.py\", line 2, in buggy_add\n",
            "    return x + y\n",
            "           ~~^~~\n",
            "TypeError: unsupported operand type(s) for +: 'int' and 'str'\n",
            "2025-09-08 18:44:02,043 [ERROR] Error in fixed_add\n",
            "Traceback (most recent call last):\n",
            "  File \"/tmp/ipython-input-7538178.py\", line 7, in <cell line: 0>\n",
            "    result = fixed_add(5, \"hello\")\n",
            "             ^^^^^^^^^^^^^^^^^^^^^\n",
            "  File \"/tmp/ipython-input-7538178.py\", line 3, in fixed_add\n",
            "    raise TypeError(\"Both arguments must be int or float\")\n",
            "TypeError: Both arguments must be int or float\n",
            "2025-09-08 18:50:44,191 [ERROR] File not found: non_existent_file.txt\n",
            "2025-09-08 18:56:17,138 [INFO] Successfully parsed JSON.\n",
            "2025-09-08 18:56:17,140 [ERROR] Failed to decode JSON response\n",
            "Traceback (most recent call last):\n",
            "  File \"/tmp/ipython-input-3541659297.py\", line 5, in parse_tool_response\n",
            "    data = json.loads(response_text)\n",
            "           ^^^^^^^^^^^^^^^^^^^^^^^^^\n",
            "  File \"/usr/lib/python3.12/json/__init__.py\", line 346, in loads\n",
            "    return _default_decoder.decode(s)\n",
            "           ^^^^^^^^^^^^^^^^^^^^^^^^^^\n",
            "  File \"/usr/lib/python3.12/json/decoder.py\", line 338, in decode\n",
            "    obj, end = self.raw_decode(s, idx=_w(s, 0).end())\n",
            "               ^^^^^^^^^^^^^^^^^^^^^^^^^^^^^^^^^^^^^^\n",
            "  File \"/usr/lib/python3.12/json/decoder.py\", line 354, in raw_decode\n",
            "    obj, end = self.scan_once(s, idx)\n",
            "               ^^^^^^^^^^^^^^^^^^^^^^\n",
            "json.decoder.JSONDecodeError: Expecting property name enclosed in double quotes: line 1 column 2 (char 1)\n",
            "2025-09-08 18:56:17,144 [INFO] Successfully parsed JSON.\n",
            "2025-09-08 18:56:17,145 [ERROR] Expected key not found: \"Missing 'answer' field in response\"\n",
            "2025-09-08 18:56:25,540 [INFO] Successfully parsed JSON.\n",
            "2025-09-08 18:56:36,205 [ERROR] Failed to decode JSON response\n",
            "Traceback (most recent call last):\n",
            "  File \"/tmp/ipython-input-3541659297.py\", line 5, in parse_tool_response\n",
            "    data = json.loads(response_text)\n",
            "           ^^^^^^^^^^^^^^^^^^^^^^^^^\n",
            "  File \"/usr/lib/python3.12/json/__init__.py\", line 346, in loads\n",
            "    return _default_decoder.decode(s)\n",
            "           ^^^^^^^^^^^^^^^^^^^^^^^^^^\n",
            "  File \"/usr/lib/python3.12/json/decoder.py\", line 338, in decode\n",
            "    obj, end = self.raw_decode(s, idx=_w(s, 0).end())\n",
            "               ^^^^^^^^^^^^^^^^^^^^^^^^^^^^^^^^^^^^^^\n",
            "  File \"/usr/lib/python3.12/json/decoder.py\", line 354, in raw_decode\n",
            "    obj, end = self.scan_once(s, idx)\n",
            "               ^^^^^^^^^^^^^^^^^^^^^^\n",
            "json.decoder.JSONDecodeError: Expecting property name enclosed in double quotes: line 1 column 2 (char 1)\n",
            "2025-09-08 18:56:38,883 [INFO] Successfully parsed JSON.\n",
            "2025-09-08 18:56:38,885 [ERROR] Expected key not found: \"Missing 'answer' field in response\"\n",
            "2025-09-08 19:01:59,477 [INFO] Raw tool response: {\"answer\": 42}\n",
            "2025-09-08 19:01:59,478 [INFO] Parsed JSON successfully.\n",
            "2025-09-08 19:01:59,479 [INFO] Raw tool response: {\"result\": \"ok\"}\n",
            "2025-09-08 19:01:59,481 [INFO] Parsed JSON successfully.\n",
            "2025-09-08 19:01:59,481 [ERROR] Validation error: \"Missing 'answer' field in response.\"\n",
            "2025-09-08 19:01:59,482 [INFO] Raw tool response: Invalid JSON string\n",
            "2025-09-08 19:01:59,483 [ERROR] Failed to parse JSON.\n",
            "2025-09-08 19:01:59,484 [INFO] Raw tool response: {\"result\": \"ok\"}\n",
            "2025-09-08 19:01:59,485 [INFO] Parsed JSON successfully.\n",
            "2025-09-08 19:01:59,487 [ERROR] Validation error: \"Missing 'answer' field in response.\"\n",
            "2025-09-08 19:01:59,488 [INFO] Raw tool response: Invalid JSON string\n",
            "2025-09-08 19:01:59,490 [ERROR] Failed to parse JSON.\n",
            "2025-09-08 19:03:35,389 [INFO] Raw tool response: {\"answer\": 42}\n",
            "2025-09-08 19:03:35,391 [INFO] Parsed JSON successfully.\n",
            "2025-09-08 19:03:59,042 [INFO] Raw tool response: {\"answer\": 42}\n",
            "2025-09-08 19:03:59,044 [INFO] Parsed JSON successfully.\n",
            "2025-09-08 19:03:59,045 [INFO] Raw tool response: Invalid JSON string\n",
            "2025-09-08 19:03:59,046 [ERROR] Failed to parse JSON.\n",
            "2025-09-08 19:07:00,582 [INFO] Successfully parsed JSON.\n",
            "2025-09-08 19:07:00,584 [INFO] Successfully parsed JSON.\n",
            "2025-09-08 19:07:00,586 [INFO] Successfully parsed JSON.\n",
            "2025-09-08 19:07:00,587 [INFO] Successfully parsed JSON.\n",
            "2025-09-08 19:07:00,588 [INFO] Successfully parsed JSON.\n",
            "2025-09-08 19:07:00,589 [ERROR] Failed to parse response: Missing 'answer' field in response\n",
            "Traceback (most recent call last):\n",
            "  File \"/tmp/ipython-input-1413892704.py\", line 17, in parse_tool_response\n",
            "    raise ValueError(\"Missing 'answer' field in response\")\n",
            "ValueError: Missing 'answer' field in response\n",
            "2025-09-08 19:09:42,633 [INFO] ✅ Parsed JSON successfully.\n",
            "2025-09-08 19:09:42,634 [INFO] ✅ Parsed JSON successfully.\n",
            "2025-09-08 19:09:42,638 [ERROR] ❌ Failed to process response: Answer must be an integer.\n",
            "Traceback (most recent call last):\n",
            "  File \"/tmp/ipython-input-2823341378.py\", line 21, in parse_tool_response\n",
            "    raise TypeError(\"Answer must be an integer.\")\n",
            "TypeError: Answer must be an integer.\n",
            "2025-09-08 19:09:42,640 [INFO] ✅ Parsed JSON successfully.\n",
            "2025-09-08 19:09:42,641 [ERROR] ❌ Failed to process response: Missing 'answer' field in response.\n",
            "Traceback (most recent call last):\n",
            "  File \"/tmp/ipython-input-2823341378.py\", line 17, in parse_tool_response\n",
            "    raise ValueError(\"Missing 'answer' field in response.\")\n",
            "ValueError: Missing 'answer' field in response.\n",
            "2025-09-08 19:09:42,644 [ERROR] ❌ Failed to process response: Expecting value: line 1 column 1 (char 0)\n",
            "Traceback (most recent call last):\n",
            "  File \"/tmp/ipython-input-2823341378.py\", line 13, in parse_tool_response\n",
            "    data = json.loads(response_text)\n",
            "           ^^^^^^^^^^^^^^^^^^^^^^^^^\n",
            "  File \"/usr/lib/python3.12/json/__init__.py\", line 346, in loads\n",
            "    return _default_decoder.decode(s)\n",
            "           ^^^^^^^^^^^^^^^^^^^^^^^^^^\n",
            "  File \"/usr/lib/python3.12/json/decoder.py\", line 338, in decode\n",
            "    obj, end = self.raw_decode(s, idx=_w(s, 0).end())\n",
            "               ^^^^^^^^^^^^^^^^^^^^^^^^^^^^^^^^^^^^^^\n",
            "  File \"/usr/lib/python3.12/json/decoder.py\", line 356, in raw_decode\n",
            "    raise JSONDecodeError(\"Expecting value\", s, err.value) from None\n",
            "json.decoder.JSONDecodeError: Expecting value: line 1 column 1 (char 0)\n",
            "2025-09-08 19:09:42,645 [INFO] ✅ Parsed JSON successfully.\n",
            "\n"
          ]
        }
      ]
    }
  ]
}