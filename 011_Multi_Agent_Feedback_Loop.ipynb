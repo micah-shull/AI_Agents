{
  "nbformat": 4,
  "nbformat_minor": 0,
  "metadata": {
    "colab": {
      "provenance": [],
      "authorship_tag": "ABX9TyPiqT3YyGzQ+Vca4dUtDN8N",
      "include_colab_link": true
    },
    "kernelspec": {
      "name": "python3",
      "display_name": "Python 3"
    },
    "language_info": {
      "name": "python"
    }
  },
  "cells": [
    {
      "cell_type": "markdown",
      "metadata": {
        "id": "view-in-github",
        "colab_type": "text"
      },
      "source": [
        "<a href=\"https://colab.research.google.com/github/micah-shull/AI_Agents/blob/main/011_Multi_Agent_Feedback_Loop.ipynb\" target=\"_parent\"><img src=\"https://colab.research.google.com/assets/colab-badge.svg\" alt=\"Open In Colab\"/></a>"
      ]
    },
    {
      "cell_type": "markdown",
      "source": [
        "### 🔁 Multi-Agent Feedback Loop\n",
        "\n",
        "#### 1. **Writer Agent**\n",
        "- Generates a first draft (e.g., definition of an economic indicator in JSON format).\n",
        "\n",
        "#### 2. **Critic Agent**\n",
        "- Reviews the draft.\n",
        "- Highlights **gaps, clarity issues, verbosity, accuracy problems**, etc.\n",
        "- Returns a structured critique.\n",
        "\n",
        "#### 3. **Editor Agent**\n",
        "- Takes both the original and the critique.\n",
        "- Produces an improved version based on feedback.\n",
        "\n",
        "---\n",
        "\n",
        "# 🔁 Multi-Agent Feedback Loop Framework\n",
        "\n",
        "## 🎯 Purpose\n",
        "Build a **self-improving multi-agent system** to define and refine economic indicators, suitable for blog posts, client-facing reports, and intelligent research assistants.\n",
        "\n",
        "---\n",
        "\n",
        "## 🔧 Agent Overview\n",
        "\n",
        "### 1. 📝 Writer Agent *(Already Implemented)*  \n",
        "Generates a **first-draft structured definition** of an economic indicator.  \n",
        "Returns a **valid JSON object** with the following keys:\n",
        "```json\n",
        "{\n",
        "  \"indicator\": \"...\",\n",
        "  \"definition\": \"...\",\n",
        "  \"importance\": \"...\",\n",
        "  \"signals\": \"...\"\n",
        "}\n",
        "```\n",
        "\n",
        "✅ **Selected Model**: `MBZUAI/LaMini-Flan-T5-783M`  \n",
        "✅ **Why**: Strong performance, coherent writing, valid JSON structure, Colab-friendly size.  \n",
        "✅ **Strategy**: Instead of forcing models to write in JSON, we *post-parse* natural language using Python if needed.\n",
        "\n",
        "---\n",
        "\n",
        "### 2. 🧠 Critic Agent *(Coming Next)*  \n",
        "Analyzes the Writer Agent’s JSON output.  \n",
        "Returns **structured, constructive feedback** with the following fields:\n",
        "```json\n",
        "{\n",
        "  \"accuracy\": \"...\",\n",
        "  \"clarity\": \"...\",\n",
        "  \"completeness\": \"...\",\n",
        "  \"suggestions\": \"...\"\n",
        "}\n",
        "```\n",
        "\n",
        "\n",
        "\n",
        "\n"
      ],
      "metadata": {
        "id": "Q3FQ_dvUVXVX"
      }
    },
    {
      "cell_type": "code",
      "source": [
        "!pip install -q transformers huggingface_hub"
      ],
      "metadata": {
        "id": "5-Y7EHbjVrPX"
      },
      "execution_count": null,
      "outputs": []
    },
    {
      "cell_type": "code",
      "execution_count": null,
      "metadata": {
        "colab": {
          "base_uri": "https://localhost:8080/"
        },
        "id": "BHvG_smAUxri",
        "outputId": "84ef7e8e-1da5-4ee0-dff8-a46ee1d8c36a"
      },
      "outputs": [
        {
          "output_type": "stream",
          "name": "stdout",
          "text": [
            "\n",
            "========================================\n",
            "✅ Writer Agent Output (Unified JSON)\n",
            "========================================\n",
            "\n",
            "{\n",
            "  \"indicator\": \"10-Year Treasury Yield\",\n",
            "  \"definition\": \"The 10-Year Treasury Yield is a key economic indicator that measures the overall performance of the US Treasury. It is calculated by dividing the total amount of money in the Treasury by the number of years it has been in the Treasury. The 10-Year Treasury Yield is important because it provides insight into the overall health of the economy. It can indicate whether the economy is growing or shrinking, and can also indicate whether the government is making progress towards achieving its economic goals. High Treasury Yields can be a sign of a healthy economy, as they can encourage borrowing and spending, which can stimulate economic\"\n",
            "}\n"
          ]
        }
      ],
      "source": [
        "import json\n",
        "import logging\n",
        "from transformers import pipeline\n",
        "\n",
        "# Suppress warning logs\n",
        "logging.getLogger(\"transformers\").setLevel(logging.ERROR)\n",
        "\n",
        "# ✅ Model Selection (single best performer)\n",
        "MODEL_NAME = \"MBZUAI/LaMini-Flan-T5-783M\"\n",
        "\n",
        "# ✅ Prompt Generator\n",
        "def get_definition_prompt(indicator):\n",
        "    return f\"\"\"\n",
        "You are a financial assistant helping a researcher understand key economic indicators.\n",
        "\n",
        "Define the indicator: {indicator}\n",
        "\n",
        "Write a clear, informative paragraph that explains:\n",
        "- What it is\n",
        "- Why it matters\n",
        "- What it signals about the economy\n",
        "\n",
        "Write in a blog-style tone suitable for non-experts.\n",
        "\"\"\".strip()\n",
        "\n",
        "# ✅ Run Writer Agent\n",
        "def generate_definition(indicator):\n",
        "    prompt = get_definition_prompt(indicator)\n",
        "    generator = pipeline(\"text2text-generation\", model=MODEL_NAME)\n",
        "    output = generator(prompt, max_new_tokens=300)[0]['generated_text'].strip()\n",
        "\n",
        "    return {\n",
        "        \"indicator\": indicator,\n",
        "        \"definition\": output\n",
        "    }\n",
        "\n",
        "# ✅ Example: Generate definition for a test indicator\n",
        "# ✅ Example: Generate definition for a test indicator\n",
        "if __name__ == \"__main__\":\n",
        "    indicator_name = \"10-Year Treasury Yield\"\n",
        "    result = generate_definition(indicator_name)\n",
        "\n",
        "    print(\"\\n\" + \"=\"*40)\n",
        "    print(\"✅ Writer Agent Output (Unified JSON)\")\n",
        "    print(\"=\"*40 + \"\\n\")\n",
        "    print(json.dumps(result, indent=2))"
      ]
    },
    {
      "cell_type": "markdown",
      "source": [
        "> ✅ Writer Agent Output (Unified JSON):\n",
        "\n",
        "{\n",
        "  \"indicator\": \"10-Year Treasury Yield\",\n",
        "  \"definition\": \"The 10-Year Treasury Yield is a key economic indicator that measures the overall performance of the US Treasury. It is calculated by dividing the total amount of money in the Treasury by the number of years it has been in the Treasury. The 10-Year Treasury Yield is important because it provides insight into the overall health of the economy. It can indicate whether the economy is growing or shrinking, and can also indicate whether the government is making progress towards achieving its economic goals. High Treasury Yields can be a sign of a healthy economy, as they can encourage borrowing and spending, which can stimulate economic\"\n",
        "}"
      ],
      "metadata": {
        "id": "nxmIPkMToMdL"
      }
    },
    {
      "cell_type": "markdown",
      "source": [
        "### 🧠 Multi-Agent Workflow for Economic Indicator Blog Posts\n",
        "\n",
        "| Agent Role            | Task |\n",
        "|-----------------------|------|\n",
        "| `DefinitionAgent`     | Defines the indicator: what it is, why it matters, and what it signals about the economy. |\n",
        "| `ReviewAgent`         | Analyzes the definition for completeness, clarity, and correctness. May add caveats or enhancements. |\n",
        "| `PromptBuilderAgent`  | Takes the definition + review and crafts a smart search query or prompt for the final agent. |\n",
        "| `ResearchAgent`       | Uses that prompt to search databases (like FRED) or simulate doing so, and writes a historical/contextual blog section. |\n",
        "| *(Optional)* `WriterAgent` | Combines everything into a final blog post with engaging language and structure. |\n",
        "\n",
        "---\n",
        "\n",
        "### ✅ Why this is a great idea:\n",
        "- **Modularity**: You can swap out any agent or improve its performance without rewriting the whole system.\n",
        "- **Clarity**: You can trace output quality back to individual agents.\n",
        "- **Collaboration**: Each agent is specialized, mirroring how human writers work.\n",
        "\n",
        "---\n",
        "\n",
        "### 🛠 Tools You Can Use\n",
        "\n",
        "- **Hugging Face Pipelines** (`text2text-generation`) for each agent's task\n",
        "- **Gradio or Streamlit** for interaction if needed\n",
        "- **LangChain or Autogen** if you want orchestration (optional, can do manually too)\n",
        "- **FAISS / Vector DB** for retrieval if you want memory or long-context injection\n",
        "- **OpenAI function calling** (if you use GPT) or **Toolformer-style API tools** if going advanced\n",
        "\n",
        "---\n",
        "\n",
        "### 🔁 How to Structure the Code (Simplified Flow)\n",
        "\n",
        "```python\n",
        "# Step 1: Define the indicator\n",
        "definition = definition_agent.run(\"Consumer Confidence Index\")\n",
        "\n",
        "# Step 2: Review the definition\n",
        "review = review_agent.run(definition)\n",
        "\n",
        "# Step 3: Build the prompt for a research query\n",
        "search_prompt = prompt_builder_agent.run(definition, review)\n",
        "\n",
        "# Step 4: Do research using that prompt (or simulate it with a local dataset)\n",
        "blog_body = research_agent.run(search_prompt)\n",
        "\n",
        "# Step 5: Compose the full blog post (optional)\n",
        "final_post = writer_agent.run(definition, review, blog_body)\n",
        "```\n",
        "\n",
        "---\n",
        "\n",
        "### 📚 Next Step\n",
        "\n",
        "Would you like me to help you **start coding these agents step by step**, beginning with `DefinitionAgent`?\n",
        "\n",
        "I can walk you through:\n",
        "- Creating the pipeline\n",
        "- Writing the prompt\n",
        "- Running the model\n",
        "- Structuring the input/output for reuse by the next agent\n"
      ],
      "metadata": {
        "id": "TwJPOCSskb4D"
      }
    },
    {
      "cell_type": "code",
      "source": [
        "# ✅ Critic Prompt Generator\n",
        "def get_critic_prompt(definition_text):\n",
        "    return f\"\"\"\n",
        "You are a senior research analyst reviewing a blog draft for accuracy and clarity.\n",
        "\n",
        "Please provide constructive feedback on the following definition of an economic indicator.\n",
        "Assess whether it is clear, complete, and appropriate for a general audience. Suggest any improvements if needed.\n",
        "\n",
        "Definition:\n",
        "\\\"\\\"\\\"\n",
        "{definition_text}\n",
        "\\\"\\\"\\\"\n",
        "\n",
        "Write your feedback in a friendly, professional tone.\n",
        "\"\"\".strip()\n",
        "\n",
        "# ✅ Run Critic Agent\n",
        "def review_definition(definition_text):\n",
        "    prompt = get_critic_prompt(definition_text)\n",
        "    critic = pipeline(\"text2text-generation\", model=MODEL_NAME)\n",
        "    feedback = critic(prompt, max_new_tokens=300)[0]['generated_text'].strip()\n",
        "\n",
        "    return {\n",
        "        \"definition_review\": feedback,\n",
        "        \"original_definition\": definition_text\n",
        "    }\n",
        "\n",
        "# ✅ Example Use\n",
        "if __name__ == \"__main__\":\n",
        "    indicator_name = \"10-Year Treasury Yield\"\n",
        "\n",
        "    result = generate_definition(indicator_name)\n",
        "\n",
        "    print(\"\\n\" + \"=\"*40)\n",
        "    print(\"✅ Writer Agent Output\")\n",
        "    print(\"=\"*40 + \"\\n\")\n",
        "    print(json.dumps(result, indent=2))\n",
        "\n",
        "    review = review_definition(result[\"definition\"])\n",
        "\n",
        "    print(\"\\n\" + \"=\"*40)\n",
        "    print(\"✅ Critic Agent Output\")\n",
        "    print(\"=\"*40 + \"\\n\")\n",
        "    print(json.dumps(review, indent=2))\n"
      ],
      "metadata": {
        "colab": {
          "base_uri": "https://localhost:8080/"
        },
        "id": "7ZAbKvzBkbr0",
        "outputId": "46972752-0267-482b-fb38-e97bd9b8c2d5"
      },
      "execution_count": null,
      "outputs": [
        {
          "output_type": "stream",
          "name": "stdout",
          "text": [
            "\n",
            "========================================\n",
            "✅ Writer Agent Output\n",
            "========================================\n",
            "\n",
            "{\n",
            "  \"indicator\": \"10-Year Treasury Yield\",\n",
            "  \"definition\": \"The 10-Year Treasury Yield is a key economic indicator that measures the overall performance of the US Treasury. It is calculated by dividing the total amount of money in the Treasury by the number of years it has been in the Treasury. The 10-Year Treasury Yield is important because it provides insight into the overall health of the economy. It can indicate whether the economy is growing or shrinking, and can also indicate whether the government is making progress towards achieving its economic goals. High Treasury Yields can be a sign of a healthy economy, as they can encourage borrowing and spending, which can stimulate economic\"\n",
            "}\n",
            "\n",
            "========================================\n",
            "✅ Critic Agent Output\n",
            "========================================\n",
            "\n",
            "{\n",
            "  \"definition_review\": \"The 10-Year Treasury Yield is a crucial economic indicator that provides valuable insights into the health of the US economy. It is calculated by dividing the total amount of money in the Treasury by the number of years it has been in the Treasury. This indicator is crucial for determining whether the economy is growing or shrinking, and it can also indicate whether the government is making progress towards achieving its economic goals. High Treasury Yields can be a sign of a healthy economy, as they can encourage borrowing and spending, which can stimulate economic growth. Overall, the definition of the 10-Year Treasury Yield\",\n",
            "  \"original_definition\": \"The 10-Year Treasury Yield is a key economic indicator that measures the overall performance of the US Treasury. It is calculated by dividing the total amount of money in the Treasury by the number of years it has been in the Treasury. The 10-Year Treasury Yield is important because it provides insight into the overall health of the economy. It can indicate whether the economy is growing or shrinking, and can also indicate whether the government is making progress towards achieving its economic goals. High Treasury Yields can be a sign of a healthy economy, as they can encourage borrowing and spending, which can stimulate economic\"\n",
            "}\n"
          ]
        }
      ]
    },
    {
      "cell_type": "markdown",
      "source": [
        "\n",
        "========================================\n",
        "✅ Writer Agent Output\n",
        "========================================\n",
        "\n",
        "{\n",
        "  \"indicator\": \"10-Year Treasury Yield\",\n",
        "  \"definition\": \"The 10-Year Treasury Yield is a key economic indicator that measures the overall performance of the US Treasury. It is calculated by dividing the total amount of money in the Treasury by the number of years it has been in the Treasury. The 10-Year Treasury Yield is important because it provides insight into the overall health of the economy. It can indicate whether the economy is growing or shrinking, and can also indicate whether the government is making progress towards achieving its economic goals. High Treasury Yields can be a sign of a healthy economy, as they can encourage borrowing and spending, which can stimulate economic\"\n",
        "}\n",
        "\n",
        "========================================\n",
        "✅ Critic Agent Output\n",
        "========================================\n",
        "\n",
        "{\n",
        "  \"definition_review\": \"The 10-Year Treasury Yield is a crucial economic indicator that provides valuable insights into the health of the US economy. It is calculated by dividing the total amount of money in the Treasury by the number of years it has been in the Treasury. This indicator is crucial for determining whether the economy is growing or shrinking, and it can also indicate whether the government is making progress towards achieving its economic goals. High Treasury Yields can be a sign of a healthy economy, as they can encourage borrowing and spending, which can stimulate economic growth. Overall, the definition of the 10-Year Treasury Yield\",\n",
        "  \"original_definition\": \"The 10-Year Treasury Yield is a key economic indicator that measures the overall performance of the US Treasury. It is calculated by dividing the total amount of money in the Treasury by the number of years it has been in the Treasury. The 10-Year Treasury Yield is important because it provides insight into the overall health of the economy. It can indicate whether the economy is growing or shrinking, and can also indicate whether the government is making progress towards achieving its economic goals. High Treasury Yields can be a sign of a healthy economy, as they can encourage borrowing and spending, which can stimulate economic\"\n",
        "}\n",
        "\n",
        "You’re spot on — that’s a smart pivot. Here's why and what I'd recommend:\n",
        "\n",
        "---\n",
        "\n",
        "### 🧠 Observations\n",
        "\n",
        "- **Agent 1 (DefinitionAgent)** is doing a solid job already: it gives you a blog-style intro to the indicator. ✅\n",
        "- **Agent 2 (CriticAgent)** is just echoing the content, which is a known limitation of smaller instruction-tuned models like `LaMini-Flan-T5`. They’re not ideal for critical evaluation unless you fine-tune or go bigger.\n",
        "  \n",
        "---\n",
        "\n",
        "### 🔄 New Plan: Repurpose Agent 2 as `ResearchAgent`\n",
        "\n",
        "Let’s evolve Agent 2 into a **Research Agent** that takes the definition as context and enriches it with:\n",
        "- **Recent data or trends from FRED**\n",
        "- **Historical insight** (e.g., how the indicator behaved in past recessions)\n",
        "- **Why it matters now** (economic relevance in the current cycle)\n",
        "\n",
        "We can simulate this step with smart prompting first, and optionally add real search/RAG capabilities later.\n",
        "\n",
        "\n",
        "\n"
      ],
      "metadata": {
        "id": "z2BLJJOJp0wY"
      }
    },
    {
      "cell_type": "code",
      "source": [
        "def get_research_prompt(indicator, definition_text):\n",
        "    return f\"\"\"\n",
        "You are a financial researcher preparing a blog post about the economic indicator: {indicator}.\n",
        "\n",
        "Here is a basic definition to start with:\n",
        "\\\"\\\"\\\"\n",
        "{definition_text}\n",
        "\\\"\\\"\\\"\n",
        "\n",
        "Now expand on this with:\n",
        "- Historical context and how the indicator has been used in the past\n",
        "- Notable trends or movements in recent years (real or simulated)\n",
        "- Why this indicator is important to watch in today's economic environment\n",
        "\n",
        "Write in a blog-friendly tone suitable for general readers.\n",
        "\"\"\".strip()\n",
        "\n",
        "\n",
        "def generate_research_post(indicator, definition_text):\n",
        "    prompt = get_research_prompt(indicator, definition_text)\n",
        "    researcher = pipeline(\"text2text-generation\", model=MODEL_NAME)\n",
        "    response = researcher(prompt, max_new_tokens=500)[0]['generated_text'].strip()\n",
        "\n",
        "    return {\n",
        "        \"indicator\": indicator,\n",
        "        \"blog_section\": response,\n",
        "        \"definition_used\": definition_text\n",
        "    }\n",
        "\n",
        "if __name__ == \"__main__\":\n",
        "    indicator_name = \"10-Year Treasury Yield\"\n",
        "    result = generate_definition(indicator_name)\n",
        "\n",
        "    print(\"\\n\" + \"=\"*40)\n",
        "    print(\"✅ Writer Agent Output\")\n",
        "    print(\"=\"*40 + \"\\n\")\n",
        "    print(json.dumps(result, indent=2))\n",
        "\n",
        "    research = generate_research_post(indicator_name, result[\"definition\"])\n",
        "\n",
        "    print(\"\\n\" + \"=\"*40)\n",
        "    print(\"✅ Research Agent Output\")\n",
        "    print(\"=\"*40 + \"\\n\")\n",
        "    print(json.dumps(research, indent=2))\n"
      ],
      "metadata": {
        "colab": {
          "base_uri": "https://localhost:8080/"
        },
        "id": "VFYJecc8s9sD",
        "outputId": "2fbfb683-5aea-45c5-b1a7-a7d7be695b53"
      },
      "execution_count": null,
      "outputs": [
        {
          "output_type": "stream",
          "name": "stdout",
          "text": [
            "\n",
            "========================================\n",
            "✅ Writer Agent Output\n",
            "========================================\n",
            "\n",
            "{\n",
            "  \"indicator\": \"10-Year Treasury Yield\",\n",
            "  \"definition\": \"The 10-Year Treasury Yield is a key economic indicator that measures the overall performance of the US Treasury. It is calculated by dividing the total amount of money in the Treasury by the number of years it has been in the Treasury. The 10-Year Treasury Yield is important because it provides insight into the overall health of the economy. It can indicate whether the economy is growing or shrinking, and can also indicate whether the government is making progress towards achieving its economic goals. High Treasury Yields can be a sign of a healthy economy, as they can encourage borrowing and spending, which can stimulate economic\"\n",
            "}\n",
            "\n",
            "========================================\n",
            "✅ Research Agent Output\n",
            "========================================\n",
            "\n",
            "{\n",
            "  \"indicator\": \"10-Year Treasury Yield\",\n",
            "  \"blog_section\": \"The 10-Year Treasury Yield is a key economic indicator that measures the overall performance of the US Treasury. It is calculated by dividing the total amount of money in the Treasury by the number of years it has been in the Treasury. This indicator is important because it provides insight into the overall health of the economy. It can indicate whether the economy is growing or shrinking, and can also indicate whether the government is making progress towards achieving its economic goals. High Treasury Yields can be a sign of a healthy economy, as they can encourage borrowing and spending, which can stimulate economic growth. Historical Context\",\n",
            "  \"definition_used\": \"The 10-Year Treasury Yield is a key economic indicator that measures the overall performance of the US Treasury. It is calculated by dividing the total amount of money in the Treasury by the number of years it has been in the Treasury. The 10-Year Treasury Yield is important because it provides insight into the overall health of the economy. It can indicate whether the economy is growing or shrinking, and can also indicate whether the government is making progress towards achieving its economic goals. High Treasury Yields can be a sign of a healthy economy, as they can encourage borrowing and spending, which can stimulate economic\"\n",
            "}\n"
          ]
        }
      ]
    },
    {
      "cell_type": "markdown",
      "source": [
        "\n",
        "========================================\n",
        "✅ Writer Agent Output\n",
        "========================================\n",
        "\n",
        "{\n",
        "  \"indicator\": \"10-Year Treasury Yield\",\n",
        "  \"definition\": \"The 10-Year Treasury Yield is a key economic indicator that measures the overall performance of the US Treasury. It is calculated by dividing the total amount of money in the Treasury by the number of years it has been in the Treasury. The 10-Year Treasury Yield is important because it provides insight into the overall health of the economy. It can indicate whether the economy is growing or shrinking, and can also indicate whether the government is making progress towards achieving its economic goals. High Treasury Yields can be a sign of a healthy economy, as they can encourage borrowing and spending, which can stimulate economic\"\n",
        "}\n",
        "\n",
        "========================================\n",
        "✅ Research Agent Output\n",
        "========================================\n",
        "\n",
        "{\n",
        "  \"indicator\": \"10-Year Treasury Yield\",\n",
        "  \"blog_section\": \"The 10-Year Treasury Yield is a key economic indicator that measures the overall performance of the US Treasury. It is calculated by dividing the total amount of money in the Treasury by the number of years it has been in the Treasury. This indicator is important because it provides insight into the overall health of the economy. It can indicate whether the economy is growing or shrinking, and can also indicate whether the government is making progress towards achieving its economic goals. High Treasury Yields can be a sign of a healthy economy, as they can encourage borrowing and spending, which can stimulate economic growth. Historical Context\",\n",
        "  \"definition_used\": \"The 10-Year Treasury Yield is a key economic indicator that measures the overall performance of the US Treasury. It is calculated by dividing the total amount of money in the Treasury by the number of years it has been in the Treasury. The 10-Year Treasury Yield is important because it provides insight into the overall health of the economy. It can indicate whether the economy is growing or shrinking, and can also indicate whether the government is making progress towards achieving its economic goals. High Treasury Yields can be a sign of a healthy economy, as they can encourage borrowing and spending, which can stimulate economic\"\n",
        "}"
      ],
      "metadata": {
        "id": "N-TbXQTctjvz"
      }
    },
    {
      "cell_type": "code",
      "source": [
        "!pip install -q python-dotenv fredapi yfinance pandas matplotlib"
      ],
      "metadata": {
        "id": "TD9gQptzuVsY"
      },
      "execution_count": null,
      "outputs": []
    },
    {
      "cell_type": "code",
      "source": [
        "from fredapi import Fred\n",
        "import pandas as pd\n",
        "import os\n",
        "import requests\n",
        "from dotenv import load_dotenv\n",
        "\n",
        "# Path to the .env file (custom name)\n",
        "env_file_path = '/content/FRED_API_KEY.env'\n",
        "\n",
        "# Load the env file (point to your custom name)\n",
        "load_dotenv(\"/content/FRED_API_KEY.env\")\n",
        "\n",
        "# Access the key\n",
        "# Load your FRED API key from environment\n",
        "FRED_API_KEY = os.getenv(\"FRED_API_KEY\")\n",
        "fred = Fred(api_key=FRED_API_KEY)\n",
        "print(\"🔐 Loaded API key:\", FRED_API_KEY[:6] + \"...\" if FRED_API_KEY else \"Missing\")"
      ],
      "metadata": {
        "colab": {
          "base_uri": "https://localhost:8080/"
        },
        "id": "MxWPyJaftje0",
        "outputId": "90eae2c7-f1a5-4606-ab44-80a526a1777e"
      },
      "execution_count": null,
      "outputs": [
        {
          "output_type": "stream",
          "name": "stdout",
          "text": [
            "🔐 Loaded API key: 3f495a...\n"
          ]
        }
      ]
    },
    {
      "cell_type": "code",
      "source": [
        "def get_research_prompt_significance_only(indicator, definition_text):\n",
        "    return f\"\"\"\n",
        "You are writing a blog post for a general audience about the economic indicator: {indicator}.\n",
        "\n",
        "You already have the following definition:\n",
        "\\\"\\\"\\\"\n",
        "{definition_text}\n",
        "\\\"\\\"\\\"\n",
        "\n",
        "Now expand on this definition by explaining:\n",
        "- Why this indicator is important for understanding the economy\n",
        "- What it typically signals to investors, analysts, and policymakers\n",
        "- How it's commonly used in forecasting or decision-making\n",
        "- Why this indicator is worth tracking today\n",
        "\n",
        "Write in a friendly, educational blog-style tone for readers who are curious but not experts.\n",
        "\"\"\".strip()\n",
        "\n",
        "def generate_blog_section_significance(indicator, definition_text):\n",
        "    prompt = get_research_prompt_significance_only(indicator, definition_text)\n",
        "    researcher = pipeline(\"text2text-generation\", model=MODEL_NAME)\n",
        "    output = researcher(prompt, max_new_tokens=500)[0]['generated_text'].strip()\n",
        "\n",
        "    return {\n",
        "        \"indicator\": indicator,\n",
        "        \"blog_section\": output,\n",
        "        \"definition_used\": definition_text\n",
        "    }\n",
        "\n",
        "\n",
        "if __name__ == \"__main__\":\n",
        "    indicator_name = \"10-Year Treasury Yield\"\n",
        "    result = generate_definition(indicator_name)\n",
        "\n",
        "    print(\"\\n\" + \"=\"*40)\n",
        "    print(\"✅ Writer Agent Output\")\n",
        "    print(\"=\"*40 + \"\\n\")\n",
        "    print(json.dumps(result, indent=2))\n",
        "\n",
        "    blog = generate_blog_section_significance(indicator_name, result[\"definition\"])\n",
        "\n",
        "    print(\"\\n\" + \"=\"*40)\n",
        "    print(\"✅ Research Agent Output: Economic Significance\")\n",
        "    print(\"=\"*40 + \"\\n\")\n",
        "    print(blog[\"blog_section\"])\n",
        "\n"
      ],
      "metadata": {
        "colab": {
          "base_uri": "https://localhost:8080/"
        },
        "id": "Jffq69OpurNg",
        "outputId": "d5743fde-a83e-4ad6-b8ab-eb495564a5df"
      },
      "execution_count": null,
      "outputs": [
        {
          "output_type": "stream",
          "name": "stdout",
          "text": [
            "\n",
            "========================================\n",
            "✅ Writer Agent Output\n",
            "========================================\n",
            "\n",
            "{\n",
            "  \"indicator\": \"10-Year Treasury Yield\",\n",
            "  \"definition\": \"The 10-Year Treasury Yield is a key economic indicator that measures the overall performance of the US Treasury. It is calculated by dividing the total amount of money in the Treasury by the number of years it has been in the Treasury. The 10-Year Treasury Yield is important because it provides insight into the overall health of the economy. It can indicate whether the economy is growing or shrinking, and can also indicate whether the government is making progress towards achieving its economic goals. High Treasury Yields can be a sign of a healthy economy, as they can encourage borrowing and spending, which can stimulate economic\"\n",
            "}\n",
            "\n",
            "========================================\n",
            "✅ Research Agent Output: Economic Significance\n",
            "========================================\n",
            "\n",
            "The 10-Year Treasury Yield is a key economic indicator that measures the overall performance of the US Treasury. It is calculated by dividing the total amount of money in the Treasury by the number of years it has been in the Treasury. This indicator is important for understanding the economy because it can indicate whether the economy is growing or shrinking, and can also indicate whether the government is making progress towards achieving its economic goals. High Treasury Yields can be a sign of a healthy economy, as they can encourage borrowing and spending, which can stimulate economic growth. By tracking the 10-Year Treasury Yield,\n"
          ]
        }
      ]
    },
    {
      "cell_type": "markdown",
      "source": [
        "\n",
        "========================================\n",
        "✅ Writer Agent Output\n",
        "========================================\n",
        "\n",
        "{\n",
        "  \"indicator\": \"10-Year Treasury Yield\",\n",
        "  \"definition\": \"The 10-Year Treasury Yield is a key economic indicator that measures the overall performance of the US Treasury. It is calculated by dividing the total amount of money in the Treasury by the number of years it has been in the Treasury. The 10-Year Treasury Yield is important because it provides insight into the overall health of the economy. It can indicate whether the economy is growing or shrinking, and can also indicate whether the government is making progress towards achieving its economic goals. High Treasury Yields can be a sign of a healthy economy, as they can encourage borrowing and spending, which can stimulate economic\"\n",
        "}\n",
        "\n",
        "========================================\n",
        "✅ Research Agent Output: Economic Significance\n",
        "========================================\n",
        "\n",
        "The 10-Year Treasury Yield is a key economic indicator that measures the overall performance of the US Treasury. It is calculated by dividing the total amount of money in the Treasury by the number of years it has been in the Treasury. This indicator is important for understanding the economy because it can indicate whether the economy is growing or shrinking, and can also indicate whether the government is making progress towards achieving its economic goals. High Treasury Yields can be a sign of a healthy economy, as they can encourage borrowing and spending, which can stimulate economic growth. By tracking the 10-Year Treasury Yield,"
      ],
      "metadata": {
        "id": "yLw-hS3yv7R1"
      }
    }
  ]
}